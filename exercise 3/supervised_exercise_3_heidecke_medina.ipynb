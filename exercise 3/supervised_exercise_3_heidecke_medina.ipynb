{
 "cells": [
  {
   "cell_type": "markdown",
   "metadata": {},
   "source": [
    "# Exercise 3: Linear Support Vector Machines\n",
    "\n",
    "\n",
    "## I. GOAL OF THE EXERCISE\n",
    "\n",
    "The main goal is to understand the SVM classifier and the particularities of the solution achieved. For that purpose we will code the linear SVM from scratch using a QP solver at the optimization step.\n",
    "\n",
    "## II. DELIVERABLES\n",
    "As you progress in this exercise, you will find several questions. You are expected to answer them properly with adequate figures when required and deliver a document with all these evidences in due time. A file or files with the working code used for generating and discussing the results must be also delivered.\n",
    "\n",
    "\n"
   ]
  },
  {
   "cell_type": "markdown",
   "metadata": {},
   "source": [
    "<div class = \"alert alert-danger\" style=\"border-radius:10px\"> **IMPORTANT:** Write in the next cell the name of the people that answer this notebook\n",
    "</div>"
   ]
  },
  {
   "cell_type": "markdown",
   "metadata": {},
   "source": [
    "## Johannes Heidecke, Salvador Medina Herrera"
   ]
  },
  {
   "cell_type": "markdown",
   "metadata": {},
   "source": [
    "In this exercise we will use a convex optimization solver (cvxpy) so we won't need to code the optimization process. You can find the installation instructions at\n",
    "\n",
    "http://www.cvxpy.org/en/latest/\n",
    "\n",
    "\n"
   ]
  },
  {
   "cell_type": "markdown",
   "metadata": {},
   "source": [
    "## III. CODE DESIGN\n",
    "\n",
    "All classifiers must be coded from scratch, no toolkits are allowed to be used except for CVX (see details in the next section). \n",
    "\n",
    "## IV. INTRODUCTION TO THE TOOLS\n",
    "\n",
    "The support vector machine defines a quadratic programming problem. Solving efficiently the problem is out of the scope of this course. For this reason, you are welcomed to use CVX convex optimization toolbox (http://www.cvxpy.org/en/latest/). This toolbox allows to solve many convex optimization problems of medium size, i.e. linear, quadratic, cone, geometric and semi-definite programming problems. The toolbox allows to use user friendly notation for writing the convex optimization problem. E.g. given the following problem\n",
    "\n",
    "$$\n",
    "\\begin{align}\n",
    "\\underset{x}{\\text{minimize}} & \\quad \\|Ax-b\\|^2\\\\\n",
    "\\text{subject to} & \\quad \\|x\\|_{\\infty}\\leq 1\n",
    "\\end{align}\n",
    "$$\n",
    "\n",
    "\n",
    "the next CVX code corresponds to the optimization of the former problem:"
   ]
  },
  {
   "cell_type": "code",
   "execution_count": 1,
   "metadata": {
    "collapsed": false
   },
   "outputs": [
    {
     "name": "stdout",
     "output_type": "stream",
     "text": [
      "optimal\n"
     ]
    }
   ],
   "source": [
    "%reset -f\n",
    "from cvxpy import *\n",
    "import numpy as np\n",
    "\n",
    "# Problem data.\n",
    "m = 30\n",
    "n = 20\n",
    "np.random.seed(1)\n",
    "A = np.random.randn(m, n)\n",
    "C = np.random.randn(m, n)\n",
    "b = np.random.randn(m)\n",
    "d = np.random.randn(m)\n",
    "\n",
    "# Construct the problem.\n",
    "x = Variable(n)\n",
    "objective = Minimize(sum_squares(A*x - b))\n",
    "constraints = [norm(x,\"inf\") <= 1]\n",
    "prob = Problem(objective, constraints)\n",
    "\n",
    "\n",
    "# The optimal objective is returned by prob.solve().\n",
    "result = prob.solve()\n",
    "# The optimal value for x is stored in x.value.\n",
    "# print x.value\n",
    "# Check the status of the solution (Infeasible, Optimal)\n",
    "print prob.status"
   ]
  },
  {
   "cell_type": "markdown",
   "metadata": {},
   "source": [
    "Please, refer to the reference documentation for additional details. \n",
    "\n",
    "<div class = \"alert alert-info\" style = \"border-radius:10px\">\n",
    "**HINTS: ** Some operations are overridden such as `*` that performs matrix multiplication. If you need to do an element-wise multiplication you can use `mul_elemwise`. Additionally, `sum_entries` and `norm` can be useful for your code development.\n",
    "</div>"
   ]
  },
  {
   "cell_type": "markdown",
   "metadata": {},
   "source": [
    "\n",
    "## V. UNDERSTANDING SUPPORT VECTOR MACHINES\n",
    "### A. Understanding the primal\n",
    "Code the primal problem for hard margin linear SVM (i.e. without slack variables) using CVX. It is recommended to clear your workspace before running the CVX code.\n",
    "\n",
    "The primal problem hard margin linear SVM is \n",
    "\n",
    "$$\n",
    "\\begin{align}\n",
    "\\underset{a,b}{\\text{minimize}} & \\quad \\|a\\|_2\\\\\n",
    "\\text{subject to} & \\quad y_i (a^Tx_i+ b) \\geq 1, \\forall i\n",
    "\\end{align}\n",
    "$$"
   ]
  },
  {
   "cell_type": "markdown",
   "metadata": {},
   "source": [
    "<div class = \"alert alert-success\" style = \"border-radius:10px\">**QUESTION BLOCK 1:**\n",
    "<ol>\n",
    "<li>Load the dataset `example_dataset_1.mat`.</li>\n",
    "<li>Run your training algorithm on that dataset.</li>\n",
    "<li>Plot the dataset and the separating hyperplane.</li>\n",
    "<li>Identify the support vectors and explain how you know they are support vectors.</li>\n",
    "</ol>\n",
    "\n",
    "</div>\n"
   ]
  },
  {
   "cell_type": "code",
   "execution_count": 2,
   "metadata": {
    "collapsed": false
   },
   "outputs": [],
   "source": [
    "# Question 1-1:\n",
    "%reset -f\n",
    "import scipy.io as sio\n",
    "data = sio.loadmat('example_dataset_1.mat')\n",
    "X = data['data'].T\n",
    "y = data['labels'].astype(float)"
   ]
  },
  {
   "cell_type": "code",
   "execution_count": 3,
   "metadata": {
    "collapsed": false
   },
   "outputs": [
    {
     "name": "stdout",
     "output_type": "stream",
     "text": [
      "Status: optimal\n",
      "Optimal value for ||a||:  9.09650430934\n",
      "Distance between hyperplanes:  0.219864679001\n",
      "a:  [[ 7.69503545 -4.85106382]]\n",
      "b:  0.975177304056\n"
     ]
    }
   ],
   "source": [
    "import cvxpy as cvx\n",
    "import numpy as np\n",
    "import matplotlib.pyplot as plt\n",
    "\n",
    "# Question 1-2:\n",
    "a = cvx.Variable(X.shape[1])\n",
    "b = cvx.Variable()\n",
    "\n",
    "# define objective and constraints:\n",
    "objective   = cvx.Minimize(cvx.norm(a, 2))\n",
    "constraints = [cvx.mul_elemwise(y, (X * a + b)) >= 1]\n",
    "# solve the problem:\n",
    "problem = cvx.Problem(objective, constraints)\n",
    "problem.solve()\n",
    "\n",
    "print \"Status:\", problem.status\n",
    "print \"Optimal value for ||a||: \", problem.value\n",
    "print \"Distance between hyperplanes: \", 2/problem.value\n",
    "print \"a: \", a.value.T\n",
    "print \"b: \", b.value"
   ]
  },
  {
   "cell_type": "code",
   "execution_count": 4,
   "metadata": {
    "collapsed": false
   },
   "outputs": [
    {
     "data": {
      "image/png": "[encoded data removed]",
      "text/plain": [
       "<matplotlib.figure.Figure at 0x10bd6d550>"
      ]
     },
     "metadata": {},
     "output_type": "display_data"
    }
   ],
   "source": [
    "# Question 1-3:\n",
    "# Plotting the results:\n",
    "def plotSvmResult(X, y, curves, SV=None, margins=False):\n",
    "    nRows = np.where(np.less(y, 0))[0]\n",
    "    pRows = np.where(np.greater(y, 0))[0]\n",
    "    nX = X[nRows, :]\n",
    "    pX = X[pRows, :]\n",
    "    fig = plt.figure()\n",
    "    ax1 = fig.add_subplot(111)\n",
    "    # plot the data points according to their class:\n",
    "    ax1.scatter(nX[:, 0], nX[:, 1], s=20, color='r', marker=\"s\", label='-1')\n",
    "    ax1.scatter(pX[:, 0], pX[:, 1], s=20, color='g', marker=\"o\", label='1')\n",
    "    if SV is not None:\n",
    "        # plot the support vectors:\n",
    "        nSV = np.intersect1d(SV, nRows)\n",
    "        ax1.scatter(X[nSV, 0], X[nSV, 1], s=20, color='y', marker=\"s\", label='-1 sv')\n",
    "        pSV = np.intersect1d(SV, pRows)\n",
    "        ax1.scatter(X[pSV, 0], X[pSV, 1], s=20, color='y', marker=\"o\", label='1 sv')\n",
    "    for curve in curves:\n",
    "    # plot the hyperplane\n",
    "    # a*x + b = 0 <=> x2 = (-a1/a2)x1 - b/a2\n",
    "        slope = -curve[0].value[0]/curve[0].value[1]\n",
    "        x1s = np.array([min(X[:, 0]), max(X[:, 0])])\n",
    "        x2s = np.multiply(x1s, slope)\n",
    "        x2s = np.add(x2s, -curve[1].value/curve[0].value[1]).tolist()[0]\n",
    "        plt.plot(x1s, x2s, c=curve[3], label=curve[2])\n",
    "        if margins:\n",
    "            # plot the margins of the hyperplane:\n",
    "            x2sL = np.add(x2s, 1.0/curve[0].value[1]).tolist()[0]\n",
    "            plt.plot(x1s, x2sL, c = curve[3], ls='dashed', lw=0.5)\n",
    "            x2sU = np.add(x2s, -1.0/curve[0].value[1]).tolist()[0]\n",
    "            plt.plot(x1s, x2sU, c = curve[3], ls='dashed', lw=0.5)    \n",
    "    plt.legend(loc='upper left', ncol=2);\n",
    "    ax1.set_xlabel('x1')\n",
    "    ax1.set_ylabel('x2')\n",
    "    plt.show()\n",
    "\n",
    "# Plotting the results:\n",
    "plotSvmResult(X, y, [(a,b,'','b')], margins=True)"
   ]
  },
  {
   "cell_type": "code",
   "execution_count": 5,
   "metadata": {
    "collapsed": false
   },
   "outputs": [
    {
     "name": "stdout",
     "output_type": "stream",
     "text": [
      "The support vectors are the following points:\n",
      "[[-0.21428571  0.06725146]\n",
      " [-0.03917051 -0.06725146]\n",
      " [ 0.29262673  0.45906433]]\n"
     ]
    },
    {
     "data": {
      "image/png": "[encoded data removed]",
      "text/plain": [
       "<matplotlib.figure.Figure at 0x10bd6d4d0>"
      ]
     },
     "metadata": {},
     "output_type": "display_data"
    }
   ],
   "source": [
    "# Question 1-4:\n",
    "\n",
    "# In the case of seperable data, the support vectors are the points\n",
    "# that fullfill the condition: aT * x + b = |1|:\n",
    "\n",
    "yResult =  np.add(X.dot(a.value), b.value)\n",
    "supportVectorRows = np.where(np.isclose(np.abs(yResult), 1))[0]\n",
    "\n",
    "print 'The support vectors are the following points:'\n",
    "print X[supportVectorRows, :]\n",
    "\n",
    "# plot the support vectors:\n",
    "plotSvmResult(X, y, [(a,b,'','b')], SV=supportVectorRows, margins=True)"
   ]
  },
  {
   "cell_type": "markdown",
   "metadata": {},
   "source": [
    "### B. Soft-margin linear SVM\n",
    "\n",
    "Code the primal problem for the soft-margin linear SVM using CVX. The soft-margin linear SVM is as follows\n",
    "\n",
    "$$\n",
    "\\begin{align}\n",
    "\\underset{a,b}{\\text{minimize}} & \\quad \\|a\\|_2 + C \\sum_i \\xi_i\\\\\n",
    "\\text{subject to} & \\quad y_i (a^Tx_i+ b) \\geq 1 - \\xi_i, \\forall i\\\\\n",
    "& \\quad \\xi_i \\geq 0\n",
    "\\end{align}\n",
    "$$"
   ]
  },
  {
   "cell_type": "markdown",
   "metadata": {},
   "source": [
    "<div class = \"alert alert-success\" style = \"border-radius:10px\">**QUESTION BLOCK 2:**\n",
    "<ol>\n",
    "<li>Load the dataset ’example_dataset_1.mat’.</li>\n",
    "<li>Consider the soft-margin formulation for C = 0. Is it reasonable to think that the\n",
    "resulting hyperplane should be very similar to the case of hard-margin SVM in\n",
    "a separable problem? Why?</li>\n",
    "<li>Run the training algorithm for non-separable datasets with C=0. Plot the dataset\n",
    "and the separating hyperplane. What do you observe? Hypothesize a reasonable\n",
    "explanation.</li>\n",
    "<li>Plot the dataset and the separating hyperplane when training with C = 1e − 2,\n",
    "C=1 and C=1e2.</li>\n",
    "<li>Which is the expected value of $\\xi_i$ for the support vectors with margin equals 1?</li>\n",
    "<li>Observe the values of $\\xi_i$ for $C = 1$. Can you identify the SVs by observing\n",
    "those values? Describe the rule you use for identifying them.</li>\n",
    "</ol>\n",
    "</div>"
   ]
  },
  {
   "cell_type": "code",
   "execution_count": 6,
   "metadata": {
    "collapsed": true
   },
   "outputs": [],
   "source": [
    "# Question 2-1:\n",
    "import scipy.io as sio\n",
    "import cvxpy as cvx\n",
    "import numpy as np\n",
    "import matplotlib.pyplot as plt\n",
    "data = sio.loadmat('example_dataset_1.mat')\n",
    "X = data['data'].T\n",
    "y = data['labels'].astype(float)"
   ]
  },
  {
   "cell_type": "code",
   "execution_count": 7,
   "metadata": {
    "collapsed": true
   },
   "outputs": [],
   "source": [
    "# Question 2-2:\n",
    "\n",
    "# It is not reasonable to think that the resulting hyperplane is similar\n",
    "# to the hyperplane in the case of a hard-margin SVM in a seperable problem.\n",
    "\n",
    "# If C = zero, the xis dissappear from the objective and the objective is\n",
    "# the same as in the hard-margin SVM.\n",
    "\n",
    "# However, the xis still appear in the constraints and they weaken the constraints \n",
    "# in a way that the objective is not constrained anymore to take unreasonalbe values.\n",
    "# The xis' only condition is to be >= 0, this makes the constraint useless for \n",
    "# the optimization.\n",
    "\n",
    "# Hence, with a C=0 the optimization will fail to produce a adequate hyperplane."
   ]
  },
  {
   "cell_type": "code",
   "execution_count": 8,
   "metadata": {
    "collapsed": false
   },
   "outputs": [
    {
     "name": "stdout",
     "output_type": "stream",
     "text": [
      "Status: optimal\n",
      "Optimal value for ||a||:  5.63788154939e-12\n",
      "Distance between hyperplanes:  3.54743174804e+11\n",
      "a:  [[ -6.14087376e-12   7.25484350e-12]]\n",
      "b:  0.199246038636\n"
     ]
    },
    {
     "data": {
      "image/png": "[encoded data removed]",
      "text/plain": [
       "<matplotlib.figure.Figure at 0x10af9ef10>"
      ]
     },
     "metadata": {},
     "output_type": "display_data"
    }
   ],
   "source": [
    "# Question 2-3:\n",
    "def softMarginSolve(X,y,C):\n",
    "    eps = cvx.Variable(y.shape[0])\n",
    "    a = cvx.Variable(X.shape[1])\n",
    "    b = cvx.Variable()\n",
    "\n",
    "    objective   = cvx.Minimize(cvx.norm(a, 2)+C*sum(eps))\n",
    "    constraints = [cvx.mul_elemwise(y, (X * a + b)) >= 1-eps, eps >= 0]\n",
    "\n",
    "    prob = cvx.Problem(objective, constraints)\n",
    "    prob.solve()\n",
    "    return (prob,a,b,eps)\n",
    "\n",
    "(prob,a,b,eps) = softMarginSolve(X,y,0)\n",
    "\n",
    "print \"Status:\", prob.status\n",
    "print \"Optimal value for ||a||: \", prob.value\n",
    "print \"Distance between hyperplanes: \", 2/prob.value\n",
    "print \"a: \", a.value.T\n",
    "print \"b: \", b.value\n",
    "\n",
    "plotSvmResult(X,y,[(a,b,'C=0','b')])"
   ]
  },
  {
   "cell_type": "code",
   "execution_count": 9,
   "metadata": {
    "collapsed": false
   },
   "outputs": [
    {
     "data": {
      "image/png": "[encoded data removed]",
      "text/plain": [
       "<matplotlib.figure.Figure at 0x10afd1190>"
      ]
     },
     "metadata": {},
     "output_type": "display_data"
    }
   ],
   "source": [
    "# Question 2-4:\n",
    "res001 = softMarginSolve(X,y,0.01)\n",
    "res1 = softMarginSolve(X,y,1)\n",
    "res100 = softMarginSolve(X,y,100)\n",
    "plotSvmResult(X,y,[\n",
    "        (res001[1], res001[2],'C=0.01', 'r'),\n",
    "        (res1[1], res1[2], 'C=1', 'g'), \n",
    "        (res100[1], res100[2], 'C=100', 'b')])"
   ]
  },
  {
   "cell_type": "code",
   "execution_count": 10,
   "metadata": {
    "collapsed": false
   },
   "outputs": [
    {
     "data": {
      "image/png": "[encoded data removed]",
      "text/plain": [
       "<matplotlib.figure.Figure at 0x10afd1150>"
      ]
     },
     "metadata": {},
     "output_type": "display_data"
    }
   ],
   "source": [
    "# The C=0.01 line is so far from the actual points that the plot is not visible\n",
    "# very well. The following plot shows just the C=1 and C=100 lines\n",
    "\n",
    "plotSvmResult(X,y,[\n",
    "        (res1[1], res1[2], 'C=1', 'g'), \n",
    "        (res100[1], res100[2], 'C=100', 'b')], margins=True)"
   ]
  },
  {
   "cell_type": "code",
   "execution_count": 11,
   "metadata": {
    "collapsed": true
   },
   "outputs": [],
   "source": [
    "# Question 2-5:\n",
    "# When the margin equals 1, the expected value of xi is 0.\n",
    "\n",
    "# The constraint is already fulfilled without needing a xi, \n",
    "# and since we are trying to minimize the sum of xis in the objective,\n",
    "# xi will take the smallest possible value, which is limited by xi >= 0.\n",
    "# xi will take the value 0."
   ]
  },
  {
   "cell_type": "code",
   "execution_count": 12,
   "metadata": {
    "collapsed": false
   },
   "outputs": [
    {
     "name": "stdout",
     "output_type": "stream",
     "text": [
      "[xi,\ty * (aT * x + b)]\n",
      "[[-0.      1.2512]\n",
      " [-0.      2.3959]\n",
      " [-0.      1.1008]\n",
      " [ 0.6913  0.3087]\n",
      " [ 0.8077  0.1923]\n",
      " [ 0.4489  0.5511]\n",
      " [-0.      1.8459]\n",
      " [ 0.      1.    ]\n",
      " [ 0.      1.    ]\n",
      " [-0.      1.369 ]\n",
      " [-0.      1.0715]\n",
      " [ 0.3442  0.6558]\n",
      " [ 0.4779  0.5221]\n",
      " [-0.      1.2165]\n",
      " [-0.      1.    ]\n",
      " [ 0.6399  0.3601]\n",
      " [-0.      1.597 ]\n",
      " [-0.      2.8535]\n",
      " [-0.      2.6677]\n",
      " [-0.      2.1173]]\n"
     ]
    },
    {
     "data": {
      "image/png": "[encoded data removed]",
      "text/plain": [
       "<matplotlib.figure.Figure at 0x10f3ee350>"
      ]
     },
     "metadata": {},
     "output_type": "display_data"
    }
   ],
   "source": [
    "# Question 2-6: \n",
    "\n",
    "# xi_i will be > 0 iff the corresponding vector is within the margin\n",
    "# or even on the wrong side of the margin.\n",
    "# We will be able to detect all of those support vectors by looking at xi.\n",
    "\n",
    "# However, the support vectors that are on the margin (aT * x + b = |1|)\n",
    "# will have a corresponding xi value of 0, just like all the others\n",
    "\n",
    "# Hence, it is not possible to detect all SV, but only a subset of them.\n",
    "\n",
    "yResult =  np.multiply(np.add(X.dot(res1[1].value), res1[2].value), y)\n",
    "\n",
    "print '[xi,\\ty * (aT * x + b)]'\n",
    "print np.round(np.hstack((res1[3].value,yResult)), 4)\n",
    "\n",
    "# There are 6 vectors with a xi > 0. All of them correspond to support vectors.\n",
    "# However, if we calculate the actual support vectors, there are 9.\n",
    "# Three of them have the condition aT * x + b = |1|.\n",
    "\n",
    "supportVectorRows = np.where(np.round(yResult, 4) <= 1)[0]\n",
    "\n",
    "plotSvmResult(X, y, [(res1[1], res1[2],'','b')], SV=supportVectorRows, margins=True)"
   ]
  },
  {
   "cell_type": "markdown",
   "metadata": {},
   "source": [
    "<div class = \"alert alert-success\" style = \"border-radius:10px\">**QUESTION BLOCK 3:**\n",
    "<ol>\n",
    "<li>Load the dataset ’example_dataset_2.mat’.</li>\n",
    "<li>Run your training algorithm on that dataset for C = 1e−2, C = 1 and C = 1e2.</li>\n",
    "<li>Plot the dataset and the separating hyperplane for each value of lambda.</li>\n",
    "<li>Observe the values of ui for C = 100. Can you identify the SVs simply by\n",
    "observing those values? Describe the rule you use for identifying them.</li>\n",
    "</ol>\n",
    "</div>\n"
   ]
  },
  {
   "cell_type": "code",
   "execution_count": null,
   "metadata": {
    "collapsed": true
   },
   "outputs": [],
   "source": [
    "# Question 3-1:\n",
    "\n",
    "data = sio.loadmat('example_dataset_2.mat')\n",
    "X = data['data'].T\n",
    "y = data['labels'].astype(float)"
   ]
  },
  {
   "cell_type": "code",
   "execution_count": null,
   "metadata": {
    "collapsed": true
   },
   "outputs": [],
   "source": [
    "# Question 3-2:\n",
    "res001 = softMarginSolve(X,y,0.01)\n",
    "res1 = softMarginSolve(X,y,1)\n",
    "res100 = softMarginSolve(X,y,100)"
   ]
  },
  {
   "cell_type": "code",
   "execution_count": null,
   "metadata": {
    "collapsed": false
   },
   "outputs": [],
   "source": [
    "# Question 3-3\n",
    "plotSvmResult(X,y,[\n",
    "        (res001[1], res001[2],'C=0.01', 'r')], margins=True)\n",
    "plotSvmResult(X,y,[\n",
    "        (res1[1], res1[2], 'C=1', 'g')], margins=True)\n",
    "plotSvmResult(X,y,[\n",
    "        (res100[1], res100[2], 'C=100', 'b')], margins=True)"
   ]
  },
  {
   "cell_type": "code",
   "execution_count": null,
   "metadata": {
    "collapsed": false
   },
   "outputs": [],
   "source": [
    "# Question 3-4:\n",
    "\n",
    "# We use the same approach as in Question 2-6.\n",
    "\n",
    "yResult =  np.multiply(np.add(X.dot(res100[1].value), res100[2].value), y)\n",
    "\n",
    "print '[xi,\\ty * (aT * x + b)]'\n",
    "print np.round(np.hstack((res100[3].value,yResult)), 4)\n",
    "\n",
    "# Again, there are some vectors with y * (aT * x + b) = 1, that are not\n",
    "# detected as SV simply by looking at xi.\n",
    "\n",
    "supportVectorRows = np.where(np.round(yResult, 4) <= 1)[0]\n",
    "\n",
    "plotSvmResult(X, y, [(res100[1], res100[2],'C=100','b')], SV=supportVectorRows, margins=True)"
   ]
  },
  {
   "cell_type": "markdown",
   "metadata": {},
   "source": [
    "## C. Unbalanced data\n",
    "In this section we will vary the formulation of SVM to handle unbalanced data. Suppose that in this problem data with label −1 is critical, e.g. examples from a rare disease, machine failure, etc."
   ]
  },
  {
   "cell_type": "markdown",
   "metadata": {},
   "source": [
    "<div class = \"alert alert-success\" style = \"border-radius:10px\">**QUESTION BLOCK 4:**\n",
    "<ol>\n",
    "<li>Load the dataset ’example_dataset_3.mat’.</li>\n",
    "<li>Check how many examples we have for each class. Is the problem unbalanced?\n",
    "Why?</li>\n",
    "\n",
    "<li>Search for the optimum value of C for this problem. Plot the separating\n",
    "hyperplane and justify your choice of C.</li>\n",
    "\n",
    "<li>Is the result satisfying? Why?</li>\n",
    "<li>Compute and report the training error rate.</li>\n",
    "</ol>\n",
    "</div>\n"
   ]
  },
  {
   "cell_type": "code",
   "execution_count": null,
   "metadata": {
    "collapsed": true
   },
   "outputs": [],
   "source": [
    "# Question 4-1:\n",
    "data = sio.loadmat('example_dataset_3.mat')\n",
    "X = data['data'].T\n",
    "y = data['labels'].astype(float)"
   ]
  },
  {
   "cell_type": "code",
   "execution_count": null,
   "metadata": {
    "collapsed": false
   },
   "outputs": [],
   "source": [
    "# Question 4-2\n",
    "nRows = np.where(np.less(y, 0))[0]\n",
    "pRows = np.where(np.greater(y, 0))[0]\n",
    "print \"Positive Class\", len(pRows)\n",
    "print \"Negative Class\", len(nRows)\n",
    "print \"Positive to relative relation\", np.round(float(len(pRows))/len(nRows), 3)\n",
    "# It is obviously unbalanced as there are more than 8 times \n",
    "# as many positive examples than negative ones"
   ]
  },
  {
   "cell_type": "code",
   "execution_count": null,
   "metadata": {
    "collapsed": false
   },
   "outputs": [],
   "source": [
    "# Question 4-3:\n",
    "# The criteria here is to optimize the negative examples, we will\n",
    "# find the classifier with the biggest f1\n",
    "def calculateConfussionTable(X,y,a,b,targetClass):\n",
    "    tn=0\n",
    "    tp=0\n",
    "    fn=0\n",
    "    fp=0\n",
    "    for i in range(len(y)):\n",
    "        calc = np.dot(np.transpose(a),X[i])+b\n",
    "        if (calc[0,0]*targetClass) > 0:\n",
    "            if y[i,0]*targetClass > 0:\n",
    "                tp+=1\n",
    "            else:\n",
    "                fp+=1\n",
    "        else:\n",
    "            if y[i,0]*targetClass > 0:\n",
    "                fn+=1\n",
    "            else:\n",
    "                tn+=1\n",
    "    return (tn,tp,fn,fp);\n",
    "\n",
    "def calculateF1(X,y,a,b,targetClass):\n",
    "    (tn,tp,fn,fp) = calculateConfussionTable(X,y,a,b,targetClass)\n",
    "    if tp == 0:\n",
    "        return 0\n",
    "    else:\n",
    "        precision = (tp)/float(tp+fp)\n",
    "        recall = (tp)/float(tp+fn)\n",
    "        return 2*precision*recall/(precision+recall)\n",
    "        \n",
    "bestC=1\n",
    "biggestF1=0\n",
    "for C in [0.01, 0.05, 0.1, 0.5, 1, 5, 10, 50, 100]:\n",
    "    (prob, a, b, eps) = softMarginSolve(X,y,C)\n",
    "    f1=calculateF1(X,y,a.value, b.value, -1)\n",
    "    if f1 > biggestF1:\n",
    "        bestC=C\n",
    "        biggestF1=f1\n",
    "print \"The best obtained C value is\",bestC\n",
    "print \"The biggest F1 value obtained is\", biggestF1\n",
    "res = softMarginSolve(X,y,bestC)\n",
    "plotSvmResult(X,y,[\n",
    "        (res[1], res[2],'best C', 'b')], margins=True)\n",
    "# The C selected is the one that get the best f1 value"
   ]
  },
  {
   "cell_type": "code",
   "execution_count": null,
   "metadata": {
    "collapsed": true
   },
   "outputs": [],
   "source": [
    "# Question 4-4:\n",
    "# The result does not seem to be satisfying as the proportion of negative examples \n",
    "# (the ones that we are looking for) that are incorrectly classified is way bigger \n",
    "# than in the case of possitive examples (the ones we don't care about a lot)."
   ]
  },
  {
   "cell_type": "code",
   "execution_count": null,
   "metadata": {
    "collapsed": false
   },
   "outputs": [],
   "source": [
    "# Question 4-5\n",
    "(tn,tp,fn,fp) = calculateConfussionTable(X,y,res[1].value, res[2].value,-1)\n",
    "accuracy = (tp+tn)/float(tp+tn+fp+fn)\n",
    "errorRate = 1-accuracy\n",
    "print \"The error rate is\",np.round(errorRate * 100, 3), '%.'"
   ]
  },
  {
   "cell_type": "markdown",
   "metadata": {},
   "source": [
    "In general, the cost of an error in a critical class is set by the user/client according to the application. However if we don’t have a priori knowledge it is sensible to use a balancing weight so that an error on the majority class has less importance. A possible balancing weight is to use the quotient between the cardinality of the minority class set over the cardinality of the majority class set.\n",
    "\n",
    "**HINT: ** We can divide the original SVM optimization problem in the following:\n",
    "\n",
    "$$\n",
    "\\begin{align}\n",
    "\\underset{a,b}{\\text{minimize}} & \\quad \\|a\\|_2 + C (\\sum_i u_i + \\sum_i v_i),\\\\\n",
    "\\text{subject to} & \\quad a^Tx_i+ b \\geq 1 - u_i, \\; i: y_i = +1,\\\\\n",
    "& \\quad a^Tx_i+ b \\leq -1 + v_i, \\; i: y_i = -1,\\\\ \n",
    "& \\quad u_i\\geq 0,\\\\\n",
    "& \\quad v_i\\geq 0.\n",
    "\\end{align}\n",
    "$$"
   ]
  },
  {
   "cell_type": "markdown",
   "metadata": {},
   "source": [
    "<div class = \"alert alert-success\" style = \"border-radius:10px\">**QUESTION BLOCK 5:**\n",
    "<ol>\n",
    "<li>Modify your code to take into account balancing weights between the misclassifications of class +1 and class -1. This weight value must trade-off both misclassification errors. Hint: instead of using the compact constraint $y_i(a^T x_i + b) \\geq 1 − \\xi_i$, use separate constraints for the class +1 and −1. Look at the first slides regarding A convex optimization view to linear classification.</li>\n",
    "\n",
    "<li> Set the balancing weights so that one error in the minority class accounts for the ratio between the majority and the minority classes. Search for the optimum value of C for this problem. Plot the separating hyperplane and justify your choice of C.</li>\n",
    "\n",
    "<li>Is the result satisfying? Why?</li>\n",
    "\n",
    "<li>Compute and report the error rate. Is this error rate smaller than the one obtained\n",
    "in block 4? Why?</li>\n",
    "\n",
    "<li>Use the balancing weight to define a weighted error rate and compute the weighed\n",
    "training error rates for the models in block 4. Is this error rate smaller than the weighed error for the model in block 4? Why?</li>\n",
    "</ol>\n",
    "</div>\n"
   ]
  },
  {
   "cell_type": "code",
   "execution_count": null,
   "metadata": {
    "collapsed": false
   },
   "outputs": [],
   "source": [
    "# Question 5-1\n",
    "data = sio.loadmat('example_dataset_3.mat')\n",
    "X = data['data'].T\n",
    "y = data['labels'].astype(float)\n",
    "\n",
    "def softMarginBalancedSolve(X,y,C, balance=1):\n",
    "    u = cvx.Variable(y.shape[0])\n",
    "    v = cvx.Variable(y.shape[0])\n",
    "    a = cvx.Variable(X.shape[1])\n",
    "    b = cvx.Variable()\n",
    "\n",
    "    objective   = cvx.Minimize(cvx.norm(a, 2)+C*(sum(u)+balance*sum(v)))\n",
    "    constraints = [2*cvx.mul_elemwise(y, (X * a + b)) >= cvx.mul_elemwise((y+1),(1-u))+cvx.mul_elemwise((y-1),(-1+v)), u >= 0, v>=0]\n",
    "\n",
    "    prob = cvx.Problem(objective, constraints)\n",
    "    prob.solve()\n",
    "    return (prob,a,b,u,v)\n",
    "\n",
    "# If we don't set the balance, we get the same solution as in the previous exercises\n",
    "(prob,a,b,u,v) = softMarginBalancedSolve(X,y,100);\n",
    "plotSvmResult(X, y, [(a,b,'C=100','b')], margins=True);"
   ]
  },
  {
   "cell_type": "code",
   "execution_count": null,
   "metadata": {
    "collapsed": false
   },
   "outputs": [],
   "source": [
    "# If we use the balance...\n",
    "# Get the balance\n",
    "nRows = len(np.where(np.less(y, 0))[0])\n",
    "pRows = len(np.where(np.greater(y, 0))[0])\n",
    "pBalance = float(pRows)/nRows\n",
    "\n",
    "# Multiply the negative weight by the positive balance\n",
    "(prob,a,b,u,v) = softMarginBalancedSolve(X,y,100, pBalance);\n",
    "plotSvmResult(X, y, [(a,b,'C=100','b')], margins=True);"
   ]
  },
  {
   "cell_type": "code",
   "execution_count": null,
   "metadata": {
    "collapsed": false
   },
   "outputs": [],
   "source": [
    "# Question 5-2\n",
    "bestCWeighted=1\n",
    "biggestF1=0\n",
    "for C in [0.01, 0.05, 0.1, 0.5, 1, 5, 10, 50, 100]:\n",
    "    (prob, a, b, u, v) = softMarginBalancedSolve(X,y,C,pBalance)\n",
    "    f1=calculateF1(X,y,a.value, b.value, -1)\n",
    "    if f1 > biggestF1:\n",
    "        bestCWeighted=C\n",
    "        biggestF1=f1\n",
    "print \"The best obtained C value is\",bestC\n",
    "print \"The biggest F1 value obtained is\", biggestF1\n",
    "\n",
    "(prob,a,b,u,v) = softMarginBalancedSolve(X,y,bestCWeighted, pBalance);\n",
    "plotSvmResult(X, y, [(a,b,'Best C','b')], margins=True);"
   ]
  },
  {
   "cell_type": "code",
   "execution_count": null,
   "metadata": {
    "collapsed": true
   },
   "outputs": [],
   "source": [
    "# Question 5-3\n",
    "# Visually, it seems like a way better solution, as it identifies the target elements (-1)\n",
    "# better but also tries to keep the misclassifications of (+1) as low as possible"
   ]
  },
  {
   "cell_type": "code",
   "execution_count": null,
   "metadata": {
    "collapsed": false
   },
   "outputs": [],
   "source": [
    "# Question 5-4\n",
    "(tn,tp,fn,fp) = calculateConfussionTable(X,y,a.value, b.value,-1)\n",
    "accuracy = (tp+tn)/float(tp+tn+fp+fn)\n",
    "errorRate = 1-accuracy\n",
    "recall = float(tp)/(tp+fn)\n",
    "print \"The error rate is \",errorRate\n",
    "print \"The recall is \", recall\n",
    "\n",
    "# This error is obviously higher (double) that in the unbalanced case.\n",
    "# This was to be expected, as the error rate does not take into account the target class\n",
    "# If we calculate recall in class (-1) though, the result is way better in this case."
   ]
  },
  {
   "cell_type": "code",
   "execution_count": null,
   "metadata": {
    "collapsed": false
   },
   "outputs": [],
   "source": [
    "# Question 5-5\n",
    "(tn,tp,fn,fp) = calculateConfussionTable(X,y,a.value, b.value,-1)\n",
    "accuracy = (pBalance*tp+tn)/float(pBalance*(tp+fn)+tn+fp)\n",
    "errorRate = 1-accuracy\n",
    "print \"[Weighted SM-SVM] The weighted error rate is\",errorRate\n",
    "\n",
    "# If we add a weight to the error rate, the result is now really similar to the\n",
    "# unweighted one that we got when using unweighted soft-margin SVM.\n",
    "# This is also to be expected, as it is the exact same modification that we did to the\n",
    "# minimization condition.\n",
    "\n",
    "\n",
    "(prob,a,b,eps) = softMarginSolve(X,y,bestC)\n",
    "(tn,tp,fn,fp) = calculateConfussionTable(X,y,a.value, b.value,-1)\n",
    "accuracy = (pBalance*tp+tn)/float(pBalance*(tp+fn)+tn+fp)\n",
    "errorRate = 1-accuracy\n",
    "print \"[Unweighted SM-SVM] The weighted error rate is\",errorRate\n",
    "\n",
    "# When compared to the weighted error in the unweighted soft-margin SVM, it performs a lot\n",
    "# better. The reason for this is also the fact that in the weighted soft-margin SVM we are\n",
    "# actually minimizing the weighted errors."
   ]
  }
 ],
 "metadata": {
  "anaconda-cloud": {},
  "kernelspec": {
   "display_name": "Python [2_7_anaconda]",
   "language": "python",
   "name": "Python [2_7_anaconda]"
  },
  "language_info": {
   "codemirror_mode": {
    "name": "ipython",
    "version": 2
   },
   "file_extension": ".py",
   "mimetype": "text/x-python",
   "name": "python",
   "nbconvert_exporter": "python",
   "pygments_lexer": "ipython2",
   "version": "2.7.12"
  }
 },
 "nbformat": 4,
 "nbformat_minor": 0
}
