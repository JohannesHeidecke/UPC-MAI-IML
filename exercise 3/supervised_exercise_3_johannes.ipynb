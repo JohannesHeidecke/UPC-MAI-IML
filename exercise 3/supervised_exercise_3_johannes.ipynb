{
 "cells": [
  {
   "cell_type": "markdown",
   "metadata": {},
   "source": [
    "# Exercise 3: Linear Support Vector Machines\n",
    "\n",
    "\n",
    "## I. GOAL OF THE EXERCISE\n",
    "\n",
    "The main goal is to understand the SVM classifier and the particularities of the solution achieved. For that purpose we will code the linear SVM from scratch using a QP solver at the optimization step.\n",
    "\n",
    "## II. DELIVERABLES\n",
    "As you progress in this exercise, you will find several questions. You are expected to answer them properly with adequate figures when required and deliver a document with all these evidences in due time. A file or files with the working code used for generating and discussing the results must be also delivered.\n",
    "\n",
    "\n"
   ]
  },
  {
   "cell_type": "markdown",
   "metadata": {},
   "source": [
    "<div class = \"alert alert-danger\" style=\"border-radius:10px\"> **IMPORTANT:** Write in the next cell the name of the people that answer this notebook\n",
    "</div>"
   ]
  },
  {
   "cell_type": "markdown",
   "metadata": {},
   "source": [
    "## Salvador Medina Herrera, Johannes Heidecke"
   ]
  },
  {
   "cell_type": "markdown",
   "metadata": {},
   "source": [
    "In this exercise we will use a convex optimization solver (cvxpy) so we won't need to code the optimization process. You can find the installation instructions at\n",
    "\n",
    "http://www.cvxpy.org/en/latest/\n",
    "\n",
    "\n"
   ]
  },
  {
   "cell_type": "markdown",
   "metadata": {},
   "source": [
    "## III. CODE DESIGN\n",
    "\n",
    "All classifiers must be coded from scratch, no toolkits are allowed to be used except for CVX (see details in the next section). \n",
    "\n",
    "## IV. INTRODUCTION TO THE TOOLS\n",
    "\n",
    "The support vector machine defines a quadratic programming problem. Solving efficiently the problem is out of the scope of this course. For this reason, you are welcomed to use CVX convex optimization toolbox (http://www.cvxpy.org/en/latest/). This toolbox allows to solve many convex optimization problems of medium size, i.e. linear, quadratic, cone, geometric and semi-definite programming problems. The toolbox allows to use user friendly notation for writing the convex optimization problem. E.g. given the following problem\n",
    "\n",
    "$$\n",
    "\\begin{align}\n",
    "\\underset{x}{\\text{minimize}} & \\quad \\|Ax-b\\|^2\\\\\n",
    "\\text{subject to} & \\quad \\|x\\|_{\\infty}\\leq 1\n",
    "\\end{align}\n",
    "$$\n",
    "\n",
    "\n",
    "the next CVX code corresponds to the optimization of the former problem:"
   ]
  },
  {
   "cell_type": "code",
   "execution_count": 1,
   "metadata": {
    "collapsed": false
   },
   "outputs": [
    {
     "name": "stdout",
     "output_type": "stream",
     "text": [
      "[[ -3.61521683e-01]\n",
      " [ -1.00536841e-01]\n",
      " [ -2.03715673e-01]\n",
      " [  6.47675677e-01]\n",
      " [  2.15494699e-02]\n",
      " [ -1.64647638e-01]\n",
      " [  1.72390951e-01]\n",
      " [ -1.32485453e-01]\n",
      " [ -9.79805727e-02]\n",
      " [ -2.93714491e-01]\n",
      " [ -9.24897392e-02]\n",
      " [  2.59491849e-01]\n",
      " [ -7.37552853e-05]\n",
      " [  2.26570029e-01]\n",
      " [  3.78736989e-01]\n",
      " [  2.10573911e-01]\n",
      " [ -9.59563032e-02]\n",
      " [ -3.51321870e-01]\n",
      " [  1.81990979e-01]\n",
      " [  2.09077202e-01]]\n",
      "optimal\n"
     ]
    }
   ],
   "source": [
    "%reset -f\n",
    "from cvxpy import *\n",
    "import numpy as np\n",
    "\n",
    "# Problem data.\n",
    "m = 30\n",
    "n = 20\n",
    "np.random.seed(1)\n",
    "A = np.random.randn(m, n)\n",
    "C = np.random.randn(m, n)\n",
    "b = np.random.randn(m)\n",
    "d = np.random.randn(m)\n",
    "\n",
    "# Construct the problem.\n",
    "x = Variable(n)\n",
    "objective = Minimize(sum_squares(A*x - b))\n",
    "constraints = [norm(x,\"inf\") <= 1]\n",
    "prob = Problem(objective, constraints)\n",
    "\n",
    "\n",
    "# The optimal objective is returned by prob.solve().\n",
    "result = prob.solve()\n",
    "# The optimal value for x is stored in x.value.\n",
    "print x.value\n",
    "# Check the status of the solution (Infeasible, Optimal)\n",
    "print prob.status"
   ]
  },
  {
   "cell_type": "markdown",
   "metadata": {},
   "source": [
    "Please, refer to the reference documentation for additional details. \n",
    "\n",
    "<div class = \"alert alert-info\" style = \"border-radius:10px\">\n",
    "**HINTS: ** Some operations are overridden such as `*` that performs matrix multiplication. If you need to do an element-wise multiplication you can use `mul_elemwise`. Additionally, `sum_entries` and `norm` can be useful for your code development.\n",
    "</div>"
   ]
  },
  {
   "cell_type": "markdown",
   "metadata": {},
   "source": [
    "\n",
    "## V. UNDERSTANDING SUPPORT VECTOR MACHINES\n",
    "### A. Understanding the primal\n",
    "Code the primal problem for hard margin linear SVM (i.e. without slack variables) using CVX. It is recommended to clear your workspace before running the CVX code.\n",
    "\n",
    "The primal problem hard margin linear SVM is \n",
    "\n",
    "$$\n",
    "\\begin{align}\n",
    "\\underset{a,b}{\\text{minimize}} & \\quad \\|a\\|_2\\\\\n",
    "\\text{subject to} & \\quad y_i (a^Tx_i+ b) \\geq 1, \\forall i\n",
    "\\end{align}\n",
    "$$"
   ]
  },
  {
   "cell_type": "markdown",
   "metadata": {},
   "source": [
    "<div class = \"alert alert-success\" style = \"border-radius:10px\">**QUESTION BLOCK 1:**\n",
    "<ol>\n",
    "<li>Load the dataset `example_dataset_1.mat`.</li>\n",
    "<li>Run your training algorithm on that dataset.</li>\n",
    "<li>Plot the dataset and the separating hyperplane.</li>\n",
    "<li>Identify the support vectors and explain how you know they are support vectors.</li>\n",
    "</ol>\n",
    "\n",
    "</div>\n"
   ]
  },
  {
   "cell_type": "code",
   "execution_count": 16,
   "metadata": {
    "collapsed": false
   },
   "outputs": [],
   "source": [
    "%reset -f\n",
    "\n",
    "# Question 1-1:\n",
    "import scipy.io as sio\n",
    "data = sio.loadmat('example_dataset_1.mat')\n",
    "X = data['data'].T\n",
    "y = data['labels'].astype(float)"
   ]
  },
  {
   "cell_type": "code",
   "execution_count": 17,
   "metadata": {
    "collapsed": false
   },
   "outputs": [
    {
     "name": "stdout",
     "output_type": "stream",
     "text": [
      "status: optimal\n",
      "optimal value:  9.09650430934\n",
      "distance between hyperplanes:  0.219864679001\n",
      "a:  [[ 7.69503545]\n",
      " [-4.85106382]]\n",
      "b:  0.975177304056\n"
     ]
    }
   ],
   "source": [
    "import cvxpy as cvx\n",
    "import numpy as np\n",
    "import matplotlib.pyplot as plt\n",
    "\n",
    "# Question 1-2:\n",
    "a = cvx.Variable(X.shape[1])\n",
    "b = cvx.Variable()\n",
    "\n",
    "objective   = cvx.Minimize(cvx.norm(a, 2))\n",
    "constraints = [cvx.mul_elemwise(y, (X * a + b)) >= 1]\n",
    "\n",
    "problem = cvx.Problem(objective, constraints)\n",
    "problem.solve()\n",
    "\n",
    "print \"status:\", problem.status\n",
    "print \"optimal value: \", problem.value\n",
    "print \"distance between hyperplanes: \", 2/problem.value\n",
    "print \"a: \", a.value\n",
    "print \"b: \", b.value\n",
    "\n"
   ]
  },
  {
   "cell_type": "code",
   "execution_count": 19,
   "metadata": {
    "collapsed": false
   },
   "outputs": [
    {
     "data": {
      "image/png": "[encoded data removed]",
      "text/plain": [
       "<matplotlib.figure.Figure at 0x10ea306d0>"
      ]
     },
     "metadata": {},
     "output_type": "display_data"
    }
   ],
   "source": [
    "# Question 1-3:\n",
    "nRows = np.where(np.less(y, 0))[0]\n",
    "pRows = np.where(np.greater(y, 0))[0]\n",
    "nX = X[nRows, :]\n",
    "pX = X[pRows, :]\n",
    "\n",
    "%matplotlib inline\n",
    "fig = plt.figure()\n",
    "ax1 = fig.add_subplot(111)\n",
    "# plot the data points according to their class:\n",
    "ax1.scatter(nX[:, 0], nX[:, 1], s=20, c='g', marker=\"s\", label='negative')\n",
    "ax1.scatter(pX[:, 0], pX[:, 1], s=20, c='r', marker=\"o\", label='positive')\n",
    "plt.legend(loc='upper left');\n",
    "# plot the hyperplane\n",
    "# a*x + b = 0 <=> x2 = (-a1/a2)x1 - b/a2\n",
    "slope = -a.value[0]/a.value[1]\n",
    "x1s = np.array([min(X[:, 0]), max(X[:, 0])])\n",
    "x2s = np.multiply(x1s, slope)\n",
    "x2s = np.add(x2s, -b.value/a.value[1]).tolist()[0]\n",
    "plt.plot(x1s, x2s)\n",
    "ax1.set_xlabel('x1')\n",
    "ax1.set_ylabel('x2')\n",
    "plt.show()\n",
    "\n"
   ]
  },
  {
   "cell_type": "code",
   "execution_count": 59,
   "metadata": {
    "collapsed": false
   },
   "outputs": [
    {
     "name": "stdout",
     "output_type": "stream",
     "text": [
      "[[-0.21428571  0.06725146]\n",
      " [-0.03917051 -0.06725146]\n",
      " [ 0.29262673  0.45906433]]\n"
     ]
    },
    {
     "data": {
      "image/png": "[encoded data removed]",
      "text/plain": [
       "<matplotlib.figure.Figure at 0x10f227690>"
      ]
     },
     "metadata": {},
     "output_type": "display_data"
    }
   ],
   "source": [
    "# Question 1-4:\n",
    "\n",
    "# The support vectors are the points that fullfill the condition\n",
    "# aT * x + b = 1 or -1\n",
    "yResult =  np.add(X.dot(a.value), b.value)\n",
    "supportVectorRows = np.where(np.isclose(np.abs(yResult), 1))[0]\n",
    "\n",
    "print X[supportVectorRows, :]\n",
    "\n",
    "%matplotlib inline\n",
    "fig = plt.figure()\n",
    "ax1 = fig.add_subplot(111)\n",
    "# plot the data points according to their class:\n",
    "ax1.scatter(X[:, 0], X[:, 1], s=20, c='b', marker=\"s\", label='points')\n",
    "ax1.scatter(X[supportVectorRows, 0], X[supportVectorRows, 1], s=20, c='y', marker=\"s\", label='support vectors')\n",
    "plt.legend(loc='upper left');\n",
    "# plot the hyperplane\n",
    "# a*x + b = 0 <=> x2 = (-a1/a2)x1 - b/a2\n",
    "slope = -a.value[0]/a.value[1]\n",
    "x1s = np.array([min(X[:, 0]), max(X[:, 0])])\n",
    "x2s = np.multiply(x1s, slope)\n",
    "x2s = np.add(x2s, -b.value/a.value[1]).tolist()[0]\n",
    "plt.plot(x1s, x2s)\n",
    "ax1.set_xlabel('x1')\n",
    "ax1.set_ylabel('x2')\n",
    "plt.show()"
   ]
  },
  {
   "cell_type": "markdown",
   "metadata": {},
   "source": [
    "### B. Soft-margin linear SVM\n",
    "\n",
    "Code the primal problem for the soft-margin linear SVM using CVX. The soft-margin linear SVM is as follows\n",
    "\n",
    "$$\n",
    "\\begin{align}\n",
    "\\underset{a,b}{\\text{minimize}} & \\quad \\|a\\|_2 + C \\sum_i \\xi_i\\\\\n",
    "\\text{subject to} & \\quad y_i (a^Tx_i+ b) \\geq 1 - \\xi_i, \\forall i\\\\\n",
    "& \\quad \\xi_i \\geq 0\n",
    "\\end{align}\n",
    "$$"
   ]
  },
  {
   "cell_type": "markdown",
   "metadata": {},
   "source": [
    "<div class = \"alert alert-success\" style = \"border-radius:10px\">**QUESTION BLOCK 2:**\n",
    "<ol>\n",
    "<li>Load the dataset ’example_dataset_1.mat’.</li>\n",
    "<li>Consider the soft-margin formulation for C = 0. Is it reasonable to think that the\n",
    "resulting hyperplane should be very similar to the case of hard-margin SVM in\n",
    "a separable problem? Why?</li>\n",
    "<li>Run the training algorithm for non-separable datasets with C=0. Plot the dataset\n",
    "and the separating hyperplane. What do you observe? Hypothesize a reasonable\n",
    "explanation.</li>\n",
    "<li>Plot the dataset and the separating hyperplane when training with C = 1e − 2,\n",
    "C=1 and C=1e2.</li>\n",
    "<li>Which is the expected value of $\\xi_i$ for the support vectors with margin equals 1?</li>\n",
    "<li>Observe the values of $\\xi_i$ for $C = 1$. Can you identify the SVs by observing\n",
    "those values? Describe the rule you use for identifying them.</li>\n",
    "</ol>\n",
    "</div>"
   ]
  },
  {
   "cell_type": "code",
   "execution_count": null,
   "metadata": {
    "collapsed": true
   },
   "outputs": [],
   "source": [
    "#your code here"
   ]
  },
  {
   "cell_type": "markdown",
   "metadata": {},
   "source": [
    "<div class = \"alert alert-success\" style = \"border-radius:10px\">**QUESTION BLOCK 3:**\n",
    "<ol>\n",
    "<li>Load the dataset ’example_dataset_2.mat’.</li>\n",
    "<li>Run your training algorithm on that dataset for C = 1e−2, C = 1 and C = 1e2.</li>\n",
    "<li>Plot the dataset and the separating hyperplane for each value of lambda.</li>\n",
    "<li>Observe the values of ui for C = 100. Can you identify the SVs simply by\n",
    "observing those values? Describe the rule you use for identifying them.</li>\n",
    "</ol>\n",
    "</div>\n"
   ]
  },
  {
   "cell_type": "code",
   "execution_count": null,
   "metadata": {
    "collapsed": true
   },
   "outputs": [],
   "source": [
    "#your code here"
   ]
  },
  {
   "cell_type": "markdown",
   "metadata": {},
   "source": [
    "## C. Unbalanced data\n",
    "In this section we will vary the formulation of SVM to handle unbalanced data. Suppose that in this problem data with label −1 is critical, e.g. examples from a rare disease, machine failure, etc."
   ]
  },
  {
   "cell_type": "markdown",
   "metadata": {},
   "source": [
    "<div class = \"alert alert-success\" style = \"border-radius:10px\">**QUESTION BLOCK 4:**\n",
    "<ol>\n",
    "<li>Load the dataset ’example_dataset_3.mat’.</li>\n",
    "<li>Check how many examples we have for each class. Is the problem unbalanced?\n",
    "Why?</li>\n",
    "\n",
    "<li>Search for the optimum value of C for this problem. Plot the separating\n",
    "hyperplane and justify your choice of C.</li>\n",
    "\n",
    "<li>Is the result satisfying? Why?</li>\n",
    "<li>Compute and report the training error rate.</li>\n",
    "</ol>\n",
    "</div>\n"
   ]
  },
  {
   "cell_type": "code",
   "execution_count": null,
   "metadata": {
    "collapsed": true
   },
   "outputs": [],
   "source": [
    "#your code here"
   ]
  },
  {
   "cell_type": "markdown",
   "metadata": {},
   "source": [
    "In general, the cost of an error in a critical class is set by the user/client according to the application. However if we don’t have a priori knowledge it is sensible to use a balancing weight so that an error on the majority class has less importance. A possible balancing weight is to use the quotient between the cardinality of the minority class set over the cardinality of the majority class set.\n",
    "\n",
    "**HINT: ** We can divide the original SVM optimization problem in the following:\n",
    "\n",
    "$$\n",
    "\\begin{align}\n",
    "\\underset{a,b}{\\text{minimize}} & \\quad \\|a\\|_2 + C (\\sum_i u_i + \\sum_i v_i),\\\\\n",
    "\\text{subject to} & \\quad a^Tx_i+ b \\geq 1 - u_i, \\; i: y_i = +1,\\\\\n",
    "& \\quad a^Tx_i+ b \\leq -1 + v_i, \\; i: y_i = -1,\\\\ \n",
    "& \\quad u_i\\geq 0,\\\\\n",
    "& \\quad v_i\\geq 0.\n",
    "\\end{align}\n",
    "$$"
   ]
  },
  {
   "cell_type": "markdown",
   "metadata": {},
   "source": [
    "<div class = \"alert alert-success\" style = \"border-radius:10px\">**QUESTION BLOCK 5:**\n",
    "<ol>\n",
    "<li>Modify your code to take into account balancing weights between the misclassifications of class +1 and class -1. This weight value must trade-off both misclassification errors. Hint: instead of using the compact constraint $y_i(a^T x_i + b) \\geq 1 − \\xi_i$, use separate constraints for the class +1 and −1. Look at the first slides regarding A convex optimization view to linear classification.</li>\n",
    "\n",
    "<li> Set the balancing weights so that one error in the minority class accounts for the ratio between the majority and the minority classes. Search for the optimum value of C for this problem. Plot the separating hyperplane and justify your choice of C.</li>\n",
    "\n",
    "<li>Is the result satisfying? Why?</li>\n",
    "\n",
    "<li>Compute and report the error rate. Is this error rate smaller than the one obtained\n",
    "in block 4? Why?</li>\n",
    "\n",
    "<li>Use the balancing weight to define a weighted error rate and compute the weighed\n",
    "training error rates for the models in block 4. Is this error rate smaller than the weighed error for the model in block 4? Why?</li>\n",
    "</ol>\n",
    "</div>\n"
   ]
  },
  {
   "cell_type": "code",
   "execution_count": null,
   "metadata": {
    "collapsed": true
   },
   "outputs": [],
   "source": [
    "#your code here"
   ]
  }
 ],
 "metadata": {
  "anaconda-cloud": {},
  "kernelspec": {
   "display_name": "Python [conda env:2_7_anaconda]",
   "language": "python",
   "name": "conda-env-2_7_anaconda-py"
  },
  "language_info": {
   "codemirror_mode": {
    "name": "ipython",
    "version": 2
   },
   "file_extension": ".py",
   "mimetype": "text/x-python",
   "name": "python",
   "nbconvert_exporter": "python",
   "pygments_lexer": "ipython2",
   "version": "2.7.12"
  }
 },
 "nbformat": 4,
 "nbformat_minor": 0
}
