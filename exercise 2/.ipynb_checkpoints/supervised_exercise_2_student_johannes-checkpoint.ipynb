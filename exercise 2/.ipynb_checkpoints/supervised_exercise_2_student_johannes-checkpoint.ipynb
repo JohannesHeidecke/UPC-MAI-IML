{
 "cells": [
  {
   "cell_type": "markdown",
   "metadata": {},
   "source": [
    "# Exercise 2: Our first classifier.\n",
    "\n",
    "\n",
    "## I. GOAL OF THE EXERCISE\n",
    "\n",
    "In this exercise you will practice the basic pipeline of the supervised learning task. Implement a simple classifier. And will try to solve several hinderances found in the process.\n",
    "\n",
    "## II. DELIVERABLES\n",
    "As you progress in this exercise, you will find several questions you are expected to answer them properly with adequate figures when required and deliver the notebook with the working code used for generating and discussing the results in due time.\n"
   ]
  },
  {
   "cell_type": "markdown",
   "metadata": {},
   "source": [
    "<div class = \"alert alert-danger\" style=\"border-radius:10px\"> **IMPORTANT:** Write in the next cell the name of the people that answer this notebook\n",
    "</div>"
   ]
  },
  {
   "cell_type": "markdown",
   "metadata": {},
   "source": [
    "## Your names"
   ]
  },
  {
   "cell_type": "markdown",
   "metadata": {},
   "source": [
    "## III. OUR FIST CLASSIFIER.\n",
    "We are given the data in diabetes.mat and our goal is to predict the whether a person suffers from diabetes or not given her medical record. Our first model to try is linear regression as explained in ”A gentle introduction to supervised learning”.\n",
    "\n",
    "### A. Understanding and preprocessing our problem.\n",
    "The first step in the learning pipeline is to have a general picture of your dataset particularities.\n",
    "\n",
    "### B. Data set analysis\n",
    "Load the dataset and describe the basic properties of the data,"
   ]
  },
  {
   "cell_type": "markdown",
   "metadata": {},
   "source": [
    "<div class = \"alert alert-success\" style = \"border-radius:10px\">**QUESTION BLOCK 1:**\n",
    "<ol>\n",
    "<li> Which is the cardinality (number of examples) of the training set?</li> \n",
    "<li> Which is the dimensionality of the training set? </li>\n",
    "<li> Which is the mean value of the training set? </li>\n",
    "</ol>\n",
    "<div>"
   ]
  },
  {
   "cell_type": "code",
   "execution_count": 1,
   "metadata": {
    "collapsed": false
   },
   "outputs": [],
   "source": [
    "import scipy.io as sio\n",
    "import numpy as np\n",
    "data = sio.loadmat('diabetes.mat')\n",
    "\n",
    "X = data['x'].T\n",
    "y = data['y']"
   ]
  },
  {
   "cell_type": "code",
   "execution_count": 2,
   "metadata": {
    "collapsed": false
   },
   "outputs": [
    {
     "name": "stdout",
     "output_type": "stream",
     "text": [
      "The cardinality of the training set is 768.\n",
      "The dimensionality of the training set is 8.\n",
      "The means for each dimension of the trainig sets are:\n",
      "[   4.49467275  121.68676278   72.40518417   29.15341959  155.54822335\n",
      "   32.45746367    0.4718763    33.24088542]\n",
      "The mean of the target values is -0.302083.\n"
     ]
    }
   ],
   "source": [
    "# Question 1-1:\n",
    "print 'The cardinality of the training set is %d.' % len(X)\n",
    "\n",
    "# Question 1-2:\n",
    "print 'The dimensionality of the training set is %d.' % X.shape[1]\n",
    "\n",
    "# Question 1-3:\n",
    "print 'The means for each dimension of the trainig sets are:\\n', np.nanmean(X, axis=0)\n",
    "print 'The mean of the target values is %f.' % np.nanmean(y)\n",
    "\n"
   ]
  },
  {
   "cell_type": "markdown",
   "metadata": {},
   "source": [
    "As you can see there are some missing values with value NaN and som\n",
    "e categorical data."
   ]
  },
  {
   "cell_type": "markdown",
   "metadata": {},
   "source": [
    "<div class = \"alert alert-success\" style = \"border-radius:10px\">**QUESTION BLOCK 2:**\n",
    "<ol>\n",
    "<li> Create a new dataset D1, replacing the NaN values with the mean value of the corresponding attribute without considering the missing values. </li>\n",
    "<li> Create a new dataset D2, replacing the NaN values with the mean value of the corresponding attribute without considering the missing values conditioned to the class they belong, i.e. replace the missing attribute values of class +1 with the mean of that attribute of the examples of class +1, and the same for the other class. </li>\n",
    "<li> **[Optional :]** Explain another method to deal with missing values and apply it to preprocess the training data. Include the reference of the method used. Consider this new dataset as D3. </li>\n",
    "<li> Which are the new mean values of each dataset?</li>\n",
    "</ol>\n",
    "</div>"
   ]
  },
  {
   "cell_type": "code",
   "execution_count": 3,
   "metadata": {
    "collapsed": false
   },
   "outputs": [
    {
     "name": "stdout",
     "output_type": "stream",
     "text": [
      "The means for each dimension of D1 are:\n",
      "[   4.49467275  121.68676278   72.40518417   29.15341959  155.54822335\n",
      "   32.45746367    0.4718763    33.24088542]\n",
      "The means for each dimension of D2 are:\n",
      "[   4.49265212  121.69735767   72.42814101   29.24704236  157.00352686\n",
      "   32.44642005    0.4718763    33.24088542]\n",
      "The means for each dimension of D2 using median are:\n",
      "[   4.37760417  121.67708333   72.38932292   29.08984375  141.75390625\n",
      "   32.43463542    0.4718763    33.24088542]\n"
     ]
    }
   ],
   "source": [
    "# Question 2-1:\n",
    "def xToD1(X):    \n",
    "    nanIndices = np.where(np.isnan(X))\n",
    "    colMeans = np.nanmean(X, axis=0)\n",
    "    D1 = np.copy(X)\n",
    "    D1[nanIndices]=np.take(colMeans,nanIndices[1])\n",
    "    return D1;\n",
    "\n",
    "# Question 2-2:\n",
    "def xToD2(X, y, mode='mean'):\n",
    "    posClassRows = np.where(np.greater(y, np.zeros(np.shape(y))))[0]\n",
    "    negClassRows = np.where(np.less(y, np.zeros(np.shape(y))))[0]\n",
    "    if (mode == 'median'):\n",
    "        posColAgg = np.nanmedian(X[posClassRows, :], axis=0)\n",
    "        negColAgg = np.nanmedian(X[negClassRows, :], axis=0)\n",
    "    else :\n",
    "        posColAgg = np.nanmean(X[posClassRows, :], axis=0)\n",
    "        negColAgg = np.nanmean(X[negClassRows, :], axis=0)\n",
    "    D2 = np.copy(X)\n",
    "    D2pos = D2[posClassRows, :]\n",
    "    posNanIndices = np.where(np.isnan(D2[posClassRows, :]))\n",
    "    D2pos[posNanIndices] = np.take(posColAgg, posNanIndices[1])\n",
    "    D2[posClassRows, :] = D2pos\n",
    "    D2neg = D2[negClassRows, :]\n",
    "    negNanIndices = np.where(np.isnan(D2[negClassRows, :]))\n",
    "    D2neg[negNanIndices] = np.take(negColAgg, negNanIndices[1])\n",
    "    D2[negClassRows, :] = D2neg  \n",
    "    return D2\n",
    "\n",
    "# Question 2-3:\n",
    "# Use xToD2 with mode='median'\n",
    "\n",
    "# Question 2-4:\n",
    "D1 = xToD1(X)\n",
    "D2 = xToD2(X, y)\n",
    "D2med = xToD2(X, y, mode='median')\n",
    "\n",
    "print 'The means for each dimension of D1 are:\\n', np.nanmean(D1, axis=0)\n",
    "print 'The means for each dimension of D2 are:\\n', np.nanmean(D2, axis=0)\n",
    "print 'The means for each dimension of D2 using median are:\\n', np.nanmean(D2med, axis=0)\n"
   ]
  },
  {
   "cell_type": "markdown",
   "metadata": {},
   "source": [
    "### C. A simple classifier\n",
    "\n",
    "Our first classifier is a thresholded regressor. Use and/or modify any of the methods you implemented for regression and apply it to find a linear classifier."
   ]
  },
  {
   "cell_type": "markdown",
   "metadata": {},
   "source": [
    "<div class = \"alert alert-success\" style = \"border-radius:10px\">**QUESTION BLOCK 3:**\n",
    "<ol>\n",
    "<li>In this model you have to learn the threshold value. Explain how you can accommodate this parameter.</li>\n",
    "<li>Report the normal vector of the separating hyperplane for each data set D1, D2, D3.</li>\n",
    "<li>Compute the error rates achieved on the training data. Are there significant differences? Report the method used and their parameters.</li>\n",
    "</ol>\n",
    "<div>"
   ]
  },
  {
   "cell_type": "code",
   "execution_count": 4,
   "metadata": {
    "collapsed": false
   },
   "outputs": [
    {
     "name": "stdout",
     "output_type": "stream",
     "text": [
      "The norm vector of the hyperplane for D1 is:\n",
      "[[  4.54830899e-02]\n",
      " [  1.28752133e-02]\n",
      " [ -2.76153057e-03]\n",
      " [  3.09178172e-04]\n",
      " [ -1.75410884e-04]\n",
      " [  2.73791130e-02]\n",
      " [  2.50953772e-01]\n",
      " [  4.98452234e-03]]\n",
      "The norm vector of the hyperplane for D2med is:\n",
      "[[ 0.0556913 ]\n",
      " [ 0.00988663]\n",
      " [-0.00151083]\n",
      " [ 0.01041739]\n",
      " [ 0.00186537]\n",
      " [ 0.0160551 ]\n",
      " [ 0.22947897]\n",
      " [ 0.00183327]]\n",
      "The norm vector of the hyperplane for D2med is:\n",
      "[[ 0.05969661]\n",
      " [ 0.01042562]\n",
      " [-0.00147242]\n",
      " [ 0.00916783]\n",
      " [ 0.00148612]\n",
      " [ 0.01755437]\n",
      " [ 0.22476536]\n",
      " [ 0.00172082]]\n",
      "\n",
      "Error Rates for D1:\n",
      "  TP: 152, TN: 446, FP: 54, FN: 116\n",
      "  Accuracy: 0.778646\n",
      "  Precision: 0.737864\n",
      "  Recall: 0.567164\n",
      "\n",
      "Error Rates for D2:\n",
      "  TP: 167, TN: 446, FP: 54, FN: 101\n",
      "  Accuracy: 0.798177\n",
      "  Precision: 0.755656\n",
      "  Recall: 0.623134\n",
      "\n",
      "Error Rates for D2med:\n",
      "  TP: 171, TN: 440, FP: 60, FN: 97\n",
      "  Accuracy: 0.795573\n",
      "  Precision: 0.740260\n",
      "  Recall: 0.638060\n"
     ]
    }
   ],
   "source": [
    "# Question 3-1:\n",
    "\n",
    "# Our linear classifier is a threshod regressor.\n",
    "# First, we map a data point to a certain value with our regression function.\n",
    "# Second, we evaluate the calculated value and compare it to a threshold:\n",
    "# Values above the threshold get classified as positive, all others negative.\n",
    "# That is: h(x) = sign( sum[i=1 to d](xi * wi) - t ) \n",
    "# (for features x, weights w and threshold t)\n",
    "# Provided that the target values for our classes are y* and -y*:\n",
    "# We can introduce an artificial coordinate x0 = 1 and then:\n",
    "# h(x) = sign( sum[i=0 to d](xi * wi) )\n",
    "# Now, the threshold is accommodated into our model by using x0 and w0.\n",
    "# The threshold is implicitly determined as t = -w0\n",
    "\n",
    "# Question 3-2:\n",
    "\n",
    "def solveAnalytically(X, y):\n",
    "    xWave = np.concatenate((X, np.ones((X.shape[0],1))), axis=1)\n",
    "    return np.linalg.inv(xWave.T.dot(xWave)).dot(xWave.T).dot(y)\n",
    "\n",
    "def getRegressionValues(X, w):\n",
    "    xWave = np.concatenate((X, np.ones((X.shape[0],1))), axis=1)\n",
    "    return xWave.dot(w)\n",
    "\n",
    "def getClassifiedValues(X, w):\n",
    "    regValues = getRegressionValues(X, w)\n",
    "    classValues = np.zeros(regValues.shape, np.int8)\n",
    "    classValues[regValues>0] = 1\n",
    "    classValues[regValues<=0] = -1\n",
    "    return classValues\n",
    "\n",
    "def errorReport(DName, X, w, y, output=True):\n",
    "    classifiedValues = getClassifiedValues(X, w)\n",
    "    TP, FP, TN, FN = 0, 0, 0, 0\n",
    "    for i in range(len(y)):\n",
    "        if y[i] == classifiedValues[i]:\n",
    "            if y[i] == 1:\n",
    "                TP += 1\n",
    "            else:\n",
    "                TN += 1\n",
    "        else:\n",
    "            if y[i] == 1:\n",
    "                FN += 1\n",
    "            else:\n",
    "                FP += 1\n",
    "    accuracy = (float(TP+TN)/(TP+FP+TN+FN))\n",
    "    if (TP+FP) != 0:\n",
    "        precision = (float(TP)/(TP+FP))\n",
    "    else:\n",
    "        precision = np.nan\n",
    "    if (TP+FN) != 0:\n",
    "        recall = (float(TP)/(TP+FN))\n",
    "    else:\n",
    "        recall = np.nan\n",
    "    if output:\n",
    "        print '\\nError Rates for %s:' % DName\n",
    "        print '  TP: %d, TN: %d, FP: %d, FN: %d' % (TP, TN, FP, FN)\n",
    "        print '  Accuracy: %f' % accuracy\n",
    "        print '  Precision: %f' % precision\n",
    "        print '  Recall: %f' % recall\n",
    "    else:\n",
    "        return [accuracy, precision, recall]\n",
    "    \n",
    " \n",
    "\n",
    "# Question 3-3:\n",
    "\n",
    "w = solveAnalytically(D1, y)\n",
    "print 'The norm vector of the hyperplane for D1 is:\\n', w[:-1]\n",
    "w = solveAnalytically(D2, y)\n",
    "print 'The norm vector of the hyperplane for D2med is:\\n', w[:-1]\n",
    "w = solveAnalytically(D2med, y)\n",
    "print 'The norm vector of the hyperplane for D2med is:\\n', w[:-1]\n",
    "\n",
    "\n",
    "# Question 3-4:\n",
    "w = solveAnalytically(D1, y)\n",
    "errorReport('D1', D1, w, y)\n",
    "w = solveAnalytically(D2, y)\n",
    "errorReport('D2', D2, w, y)\n",
    "w = solveAnalytically(D2med, y)\n",
    "errorReport('D2med', D2, w, y)"
   ]
  },
  {
   "cell_type": "markdown",
   "metadata": {},
   "source": [
    "Training error is a poor estimation of the generalization error. Let us test what happens in a test set created by holding-out a certain percentage of the original dataset."
   ]
  },
  {
   "cell_type": "markdown",
   "metadata": {},
   "source": [
    "<div class = \"alert alert-success\" style = \"border-radius:10px\">**QUESTION BLOCK 4:**\n",
    "\n",
    "Repeat the learning process in block 3 using just D2 but holding-out the last fifth of the data set for testing purposes, i.e. use the first 4/5-th for training and the last 1/5-th for testing. Follow exactly the following steps in your process:\n",
    "<ol>\n",
    "<li> Clear your workspace: `%reset -f` at the begining of the cell. </li>\n",
    "<li> Preprocess the data replacing the NaN using the method for creating D2.</li>\n",
    "<li> Split your data in two sets: the first 4/5-th is to be used for training and\n",
    "the last 1/5-th will be used for testing purposes. Use a random seed value equal to 42.</li>\n",
    "<li> Train your model on the training set.</li>\n",
    "<li> Answer the following questions: Which is the error rate on your training\n",
    "data? Which is the error rate on your test data? Are they similar? Did you expect that behavior? Why?</li>\n",
    "</ol>\n",
    "</div>"
   ]
  },
  {
   "cell_type": "code",
   "execution_count": 5,
   "metadata": {
    "collapsed": false
   },
   "outputs": [
    {
     "name": "stdout",
     "output_type": "stream",
     "text": [
      "\n",
      "Error Rates for D2 Train:\n",
      "  TP: 131, TN: 364, FP: 40, FN: 79\n",
      "  Accuracy: 0.806189\n",
      "  Precision: 0.766082\n",
      "  Recall: 0.623810\n",
      "\n",
      "Error Rates for D2 Test:\n",
      "  TP: 32, TN: 86, FP: 10, FN: 26\n",
      "  Accuracy: 0.766234\n",
      "  Precision: 0.761905\n",
      "  Recall: 0.551724\n"
     ]
    }
   ],
   "source": [
    "# Question 4-1:\n",
    "# %reset -f\n",
    "\n",
    "# Question 4-2:\n",
    "D2 = xToD2(X, y)\n",
    "\n",
    "# Question 4-3:\n",
    "np.random.seed(42)\n",
    "allData = np.hstack((D2,y))\n",
    "np.random.shuffle(allData)\n",
    "\n",
    "splitInd = int(D2.shape[0]*4/5)\n",
    "D2Train, D2Test = allData[:splitInd, :-1], allData[splitInd: , :-1]\n",
    "yTrain, yTest = allData[:splitInd, -1:], allData[splitInd: , -1:]\n",
    "\n",
    "# Question 4-4:\n",
    "w = solveAnalytically(D2Train, yTrain)\n",
    "errorReport('D2 Train', D2Train, w, yTrain)\n",
    "errorReport('D2 Test', D2Test, w, yTest)\n"
   ]
  },
  {
   "cell_type": "markdown",
   "metadata": {},
   "source": [
    "<div class = \"alert alert-success\" style = \"border-radius:10px\"> **QUESTION BLOCK 5:**\n",
    "Repeat the process in block 4 changing the order of some of the steps. Follow exactly the following steps in your process:\n",
    "<ol>\n",
    "<li> Clear your workspace with `%reset -f`.</li>\n",
    "<li> Split your data in two sets: the first 4/5-th is to be used for training and the last 1/5-th will be used for testing purposes. Use random state or random seed value of 42. </li>\n",
    "<li> Preprocess the data replacing the NaN using the method for creating D2. But this time use only the data corresponding to the training set. </li>\n",
    "<li> Train your model on the training set.</li>\n",
    "<li> Replace the NaN values using the means computed on the training data. </li>\n",
    "<li> Answer the following questions: Which is the error rate on your training data? Which is the error rate on your test data? Are they similar? Did you expect that behavior? Why? </li>\n",
    "<li> Compare these results with the ones in block 4. Do we achieve better or worse results? Why?</li>\n",
    "<div>"
   ]
  },
  {
   "cell_type": "code",
   "execution_count": 6,
   "metadata": {
    "collapsed": false
   },
   "outputs": [
    {
     "name": "stdout",
     "output_type": "stream",
     "text": [
      "\n",
      "Error Rates for D2 Train:\n",
      "  TP: 131, TN: 363, FP: 41, FN: 79\n",
      "  Accuracy: 0.804560\n",
      "  Precision: 0.761628\n",
      "  Recall: 0.623810\n",
      "\n",
      "Error Rates for D1 Test (using XTrain means):\n",
      "  TP: 29, TN: 86, FP: 10, FN: 29\n",
      "  Accuracy: 0.746753\n",
      "  Precision: 0.743590\n",
      "  Recall: 0.500000\n"
     ]
    }
   ],
   "source": [
    "# Question 5-1:\n",
    "# %reset -f\n",
    "\n",
    "\n",
    "# Question 5-2:\n",
    "np.random.seed(42)\n",
    "allData = np.hstack((X,y))\n",
    "np.random.shuffle(allData)\n",
    "\n",
    "splitInd = D2.shape[0]*4/5\n",
    "XTrain, XTest = allData[:splitInd, :-1], allData[splitInd: , :-1]\n",
    "yTrain, yTest = allData[:splitInd, -1:], allData[splitInd: , -1:]\n",
    "\n",
    "# Question 5-3:\n",
    "D2Train = xToD2(XTrain, yTrain)\n",
    "\n",
    "# Question 5-4:\n",
    "w = solveAnalytically(D2Train, yTrain)\n",
    "\n",
    "# Question 5-5:\n",
    "def xToD1TestFromTrain(XTrain, XTest):    \n",
    "    nanIndices = np.where(np.isnan(XTest))\n",
    "    colMeans = np.nanmean(XTrain, axis=0)\n",
    "    D1 = np.copy(XTest)\n",
    "    D1[nanIndices]=np.take(colMeans,nanIndices[1])\n",
    "    return D1;\n",
    "\n",
    "D1Test = xToD1TestFromTrain(XTrain, XTest)\n",
    "\n",
    "# Question 5-6:\n",
    "w = solveAnalytically(D2Train, yTrain)\n",
    "errorReport('D2 Train', D2Train, w, yTrain)\n",
    "errorReport('D1 Test (using XTrain means)', D1Test, w, yTest)\n"
   ]
  },
  {
   "cell_type": "markdown",
   "metadata": {},
   "source": [
    "<div class = \"alert alert-success\" style = \"border-radius:10px\"> **QUESTION BLOCK 6:**\n",
    "<ol>\n",
    "<li> Repeat the process in block 5 changing the percentage of the data for training and testing. Plot a graph with the training and test error rates for each splitting percentage point. Comment the results.</li>\n",
    "<li> Add to the plot the upper bound on the generalization error using the equation of the slides for VC dimension equal to $d + 1$. Discuss the result.</li>\n",
    "<li> How many samples does the bound predict in order to have 1% error deviation with a confidence of 95%? And with confidence 50%? What about 5% and 10% error deviation with 95% confidence? Comment the behavior according to your observations.</li>\n",
    "</ol>\n",
    "<div>"
   ]
  },
  {
   "cell_type": "code",
   "execution_count": 7,
   "metadata": {
    "collapsed": false
   },
   "outputs": [
    {
     "name": "stderr",
     "output_type": "stream",
     "text": [
      "/Users/salva/anaconda/envs/py27/lib/python2.7/site-packages/numpy/lib/nanfunctions.py:703: RuntimeWarning: Mean of empty slice\n",
      "  warnings.warn(\"Mean of empty slice\", RuntimeWarning)\n"
     ]
    },
    {
     "data": {
      "text/plain": [
       "<matplotlib.legend.Legend at 0x107740a10>"
      ]
     },
     "execution_count": 7,
     "metadata": {},
     "output_type": "execute_result"
    },
    {
     "data": {
      "image/png": "[encoded data removed]",
      "text/plain": [
       "<matplotlib.figure.Figure at 0x10696de50>"
      ]
     },
     "metadata": {},
     "output_type": "display_data"
    }
   ],
   "source": [
    "# Question 6-1\n",
    "np.random.seed(42)\n",
    "allData = np.hstack((X,y))\n",
    "np.random.shuffle(allData)\n",
    "\n",
    "trainSize = []\n",
    "trainErrors = []\n",
    "testErrors = []\n",
    "\n",
    "for i in range (1,100):\n",
    "    splitInd = int(np.round(D2.shape[0]*(i/100.0), 0))\n",
    "    \n",
    "    XTrain, XTest = allData[:splitInd, :-1], allData[splitInd: , :-1]\n",
    "    yTrain, yTest = allData[:splitInd, -1:], allData[splitInd: , -1:]\n",
    "    \n",
    "    D2Train = xToD2(XTrain, yTrain)\n",
    "    \n",
    "    w = solveAnalytically(D2Train, yTrain)\n",
    "    \n",
    "    D1Test = xToD1TestFromTrain(XTrain, XTest)\n",
    "    \n",
    "    w = solveAnalytically(D2Train, yTrain)\n",
    "    \n",
    "    errorTrain = 1 - errorReport('', D2Train, w, yTrain, output=False)[0]\n",
    "    errorTest = 1 - errorReport('', D1Test, w, yTest, output = False)[0]\n",
    "    trainErrors.append(errorTrain)\n",
    "    testErrors.append(errorTest)\n",
    "    trainSize.append(splitInd)\n",
    "    \n",
    "import matplotlib.pyplot as plt\n",
    "%matplotlib inline\n",
    "\n",
    "plt.plot(trainSize, trainErrors, label='E_in')\n",
    "plt.plot(trainSize, testErrors, label='E_out')\n",
    "\n",
    "# Question 6-2\n",
    "\n",
    "# For a general linear classifier in d dimensions with a constant term (w0):\n",
    "# d_vc = d+1\n",
    "# In our case: d = 8 => d_vc = 9\n",
    "\n",
    "# We can say that with probability 1-delta:\n",
    "# E_out(h) <= E_in(h) + sqrt((d_vc(log(2n/dvc)+1)+log(2/delta))/(2n))\n",
    "# (see slide 16 & 34)\n",
    "\n",
    "# calculate upper bounds for E_out(h) for n corresponding to training data size:\n",
    "d_vc = 8.0+1\n",
    "E_out_upperBounds95 = []\n",
    "E_out_upperBounds50 = []\n",
    "for i in range (1,100):\n",
    "    n = np.round(D2.shape[0]*(i/100.0), 0)\n",
    "    E_in = trainErrors[i-1]\n",
    "    delta = 0.05\n",
    "    E_out_upperBound95 = E_in + np.sqrt((d_vc*(np.log(2*n/d_vc)+1)+np.log(2/delta))/(2*n))\n",
    "    E_out_upperBounds95.append(E_out_upperBound95)\n",
    "    delta = 0.5\n",
    "    E_out_upperBound50 = E_in + np.sqrt((d_vc*(np.log(2*n/d_vc)+1)+np.log(2/delta))/(2*n))\n",
    "    E_out_upperBounds50.append(E_out_upperBound50)\n",
    "\n",
    "plt.plot(trainSize, E_out_upperBounds95, label='Upper bound E_out 95%')\n",
    "plt.plot(trainSize, E_out_upperBounds50, label='Upper bound E_out 50%')\n",
    "plt.legend(bbox_to_anchor=(1.05, 1), loc=2, borderaxespad=0., title='Curves')\n",
    "    "
   ]
  },
  {
   "cell_type": "code",
   "execution_count": 8,
   "metadata": {
    "collapsed": false
   },
   "outputs": [],
   "source": [
    "# Question 6-3:\n",
    "\n",
    "# epsilon is our error deviation and 1-delta our confidence\n",
    "# epsilon equals: sqrt((d_vc(log(2n/dvc)+1)+log(2/delta))/(2n))\n",
    "\n",
    "# with a confidence of p% (delta=1-(p/100)) and epsilon, we have to solve for n:\n",
    "# epsilon = sqrt((d_vc(log(2n/dvc)+1)+log(2/delta))/(2n))\n",
    "\n",
    "# For epsilon = 0.01, delta= 0.05:\n",
    "# solve 0.01 = sqrt((9*(log2(2n/9)+1)+log2(2/0.05))/(2n))\n",
    "# n = 861,181\n",
    "\n",
    "# For epsilon = 0.01, delta= 0.5:\n",
    "# solve 0.01 = sqrt((9*(log2(2n/9)+1)+log2(2/0.5))/(2n))\n",
    "# n = 843,202\n",
    "\n",
    "# For epsilon = 0.05, delta= 0.05:\n",
    "# solve 0.05 = sqrt((9*(log2(2n/9)+1)+log2(2/0.05))/(2n))\n",
    "# n = 25,286\n",
    "\n",
    "# For epsilon = 0.1, delta= 0.05:\n",
    "# solve 0.1 = sqrt((9*(log2(2n/9)+1)+log2(2/0.05))/(2n))\n",
    "# n = 5,308\n",
    "\n",
    "# In order to achieve a 1% deviation between E_out and E_in with 95% confidence,\n",
    "# we need at least 861,181 samples given our VC dimension of 9.\n",
    "\n",
    "# For a lower confidence or a higher deviation a smaller sample size is possible.\n",
    "# 5,308 samples suffice to achieve a 10% deviation with 95% confidence.\n",
    "\n",
    "# The actual training data consists of maximal 768 samples.\n",
    "# This results in a E_out upper bound of about 24,35% above E_in.\n",
    "\n",
    "# Our observations for one random sample with seed 42:\n",
    "# E_out lies far below its upper bound and quite close to E_in for n>200.\n",
    "\n"
   ]
  }
 ],
 "metadata": {
  "anaconda-cloud": {},
  "kernelspec": {
   "display_name": "Python [py27]",
   "language": "python",
   "name": "Python [py27]"
  },
  "language_info": {
   "codemirror_mode": {
    "name": "ipython",
    "version": 2
   },
   "file_extension": ".py",
   "mimetype": "text/x-python",
   "name": "python",
   "nbconvert_exporter": "python",
   "pygments_lexer": "ipython2",
   "version": "2.7.12"
  }
 },
 "nbformat": 4,
 "nbformat_minor": 0
}
