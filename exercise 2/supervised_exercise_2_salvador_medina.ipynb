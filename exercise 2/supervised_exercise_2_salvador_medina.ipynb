{
 "cells": [
  {
   "cell_type": "markdown",
   "metadata": {},
   "source": [
    "# Exercise 2: Our first classifier.\n",
    "\n",
    "\n",
    "## I. GOAL OF THE EXERCISE\n",
    "\n",
    "In this exercise you will practice the basic pipeline of the supervised learning task. Implement a simple classifier. And will try to solve several hinderances found in the process.\n",
    "\n",
    "## II. DELIVERABLES\n",
    "As you progress in this exercise, you will find several questions you are expected to answer them properly with adequate figures when required and deliver the notebook with the working code used for generating and discussing the results in due time.\n"
   ]
  },
  {
   "cell_type": "markdown",
   "metadata": {},
   "source": [
    "<div class = \"alert alert-danger\" style=\"border-radius:10px\"> **IMPORTANT:** Write in the next cell the name of the people that answer this notebook\n",
    "</div>"
   ]
  },
  {
   "cell_type": "markdown",
   "metadata": {},
   "source": [
    "## Your names"
   ]
  },
  {
   "cell_type": "markdown",
   "metadata": {},
   "source": [
    "## III. OUR FIST CLASSIFIER.\n",
    "We are given the data in diabetes.mat and our goal is to predict the whether a person suffers from diabetes or not given her medical record. Our first model to try is linear regression as explained in ”A gentle introduction to supervised learning”.\n",
    "\n",
    "### A. Understanding and preprocessing our problem.\n",
    "The first step in the learning pipeline is to have a general picture of your dataset particularities.\n",
    "\n",
    "### B. Data set analysis\n",
    "Load the dataset and describe the basic properties of the data,"
   ]
  },
  {
   "cell_type": "markdown",
   "metadata": {},
   "source": [
    "<div class = \"alert alert-success\" style = \"border-radius:10px\">**QUESTION BLOCK 1:**\n",
    "<ol>\n",
    "<li> Which is the cardinality (number of examples) of the training set?</li> \n",
    "<li> Which is the dimensionality of the training set? </li>\n",
    "<li> Which is the mean value of the training set? </li>\n",
    "</ol>\n",
    "<div>"
   ]
  },
  {
   "cell_type": "code",
   "execution_count": 92,
   "metadata": {
    "collapsed": false
   },
   "outputs": [],
   "source": [
    "import scipy.io as sio\n",
    "import numpy as np\n",
    "data = sio.loadmat('diabetes.mat')\n",
    "\n",
    "X = data['x'].T\n",
    "y = data['y']"
   ]
  },
  {
   "cell_type": "code",
   "execution_count": 93,
   "metadata": {
    "collapsed": false
   },
   "outputs": [
    {
     "name": "stdout",
     "output_type": "stream",
     "text": [
      "The number of examples is 768\n",
      "The number of dimensions of the training set is 8 \n",
      "\n",
      "The mean value for each dimension of the training set is:\n",
      "[   4.49467275  121.68676278   72.40518417   29.15341959  155.54822335\n",
      "   32.45746367    0.4718763    33.24088542]\n",
      "The mean value of the labels of training set is:  -0.302083333333\n"
     ]
    }
   ],
   "source": [
    "#Your code here\n",
    "print \"The number of examples is\", X.shape[0]\n",
    "print \"The number of dimensions of the training set is\", X.shape[1],\"\\n\"\n",
    "\n",
    "print \"The mean value for each dimension of the training set is:\\n\",np.nanmean(X, axis=0)\n",
    "print \"The mean value of the labels of training set is: \", np.mean(y)"
   ]
  },
  {
   "cell_type": "markdown",
   "metadata": {},
   "source": [
    "As you can see there are some missing values with value NaN and som\n",
    "e categorical data."
   ]
  },
  {
   "cell_type": "markdown",
   "metadata": {},
   "source": [
    "<div class = \"alert alert-success\" style = \"border-radius:10px\">**QUESTION BLOCK 2:**\n",
    "<ol>\n",
    "<li> Create a new dataset D1, replacing the NaN values with the mean value of the corresponding attribute without considering the missing values. </li>\n",
    "<li> Create a new dataset D2, replacing the NaN values with the mean value of the corresponding attribute without considering the missing values conditioned to the class they belong, i.e. replace the missing attribute values of class +1 with the mean of that attribute of the examples of class +1, and the same for the other class. </li>\n",
    "<li> **[Optional :]** Explain another method to deal with missing values and apply it to preprocess the training data. Include the reference of the method used. Consider this new dataset as D3. </li>\n",
    "<li> Which are the new mean values of each dataset?</li>\n",
    "</ol>\n",
    "</div>"
   ]
  },
  {
   "cell_type": "code",
   "execution_count": 94,
   "metadata": {
    "collapsed": false
   },
   "outputs": [
    {
     "name": "stdout",
     "output_type": "stream",
     "text": [
      "For D1, the mean we get is: [   4.49467275  121.68676278   72.40518417   29.15341959  155.54822335\n",
      "   32.45746367    0.4718763    33.24088542]\n",
      "For D2, the mean we get is: [   4.49265212  121.69735767   72.42814101   29.24704236  157.00352686\n",
      "   32.44642005    0.4718763    33.24088542]\n",
      "For D2 using median, the mean we get is: [   4.37760417  121.67708333   72.38932292   29.08984375  141.75390625\n",
      "   32.43463542    0.4718763    33.24088542]\n",
      "For D3 (Nearest), the mean we get is: [   4.41643663  121.63463542   72.40717593   29.10808412  152.62999553\n",
      "   32.40554687    0.4718763    33.24088542]\n"
     ]
    }
   ],
   "source": [
    "# 2 - 1\n",
    "def getD1(X,y,mean=None):\n",
    "    if mean is None:\n",
    "        # We have to compute it\n",
    "        mean = np.nanmean(X, axis=0)\n",
    "    D1=np.array(X)\n",
    "    for i in range(X.shape[1]):\n",
    "        D1[:,i][np.isnan(D1[:,i])]=mean[i]\n",
    "    return D1\n",
    "# 2 - 2\n",
    "def getD2(X,y):\n",
    "    D2=np.array(X)\n",
    "    for i in range(X.shape[1]):\n",
    "        # We are using references so that we dont have to copy anything\n",
    "        D2Col = np.asmatrix(D2[:,i]).T\n",
    "        meanC1 = np.nanmean(D2Col[y==1])\n",
    "        meanC2 = np.nanmean(D2Col[y==-1])\n",
    "        D2Col[np.logical_and(np.isnan(D2Col), y == 1)] = meanC1\n",
    "        D2Col[np.logical_and(np.isnan(D2Col), y == -1)] = meanC2\n",
    "    return D2\n",
    "\n",
    "# 2 - 3\n",
    "# We can, for example use the median or the most frequent value instead of the average\n",
    "# Another option is to use something similar to KNN, we get the closest examples and use the mean value\n",
    "# of the closest examples ()\n",
    "\n",
    "from collections import Counter\n",
    "def getD2Ext(X, y, strategy=\"mean\"):\n",
    "    D2=np.array(X)\n",
    "    for i in range(X.shape[1]):\n",
    "        # We are using references so that we dont have to copy anything\n",
    "        D2Col = np.asmatrix(D2[:,i]).T\n",
    "        estC1=0\n",
    "        estC2=0\n",
    "        if (strategy == \"mean\"):\n",
    "            estC1 = np.nanmean(D2Col[y==1])\n",
    "            estC2 = np.nanmean(D2Col[y==-1])\n",
    "        elif (strategy == \"median\"):\n",
    "            estC1 = np.nanmedian(np.asarray(D2Col[y==1]))\n",
    "            estC2 = np.nanmedian(np.asarray(D2Col[y==-1]))\n",
    "        elif (strategy == \"most_frequent\"):\n",
    "            estC1 = Counter(np.asarray(D2Col[y==1]).flatten()).most_common(1)[0][1]\n",
    "            estC2 = Counter(np.asarray(D2Col[y==-1]).flatten()).most_common(1)[0][1]\n",
    "        else:\n",
    "            raise Exception('Invalid strategy = '+strategy)\n",
    "        D2Col[np.logical_and(np.isnan(D2Col), y == 1)] = estC1\n",
    "        D2Col[np.logical_and(np.isnan(D2Col), y == -1)] = estC2\n",
    "    return D2\n",
    "\n",
    "from scipy import spatial\n",
    "def getD3(X,y,K=5,minDistanceDifferentClass=10000):\n",
    "    D3=np.array(X)\n",
    "    # In order to have an euclidean space, we have to find neighbours into an\n",
    "    # space with no nans, this is why we need to use one of the previously defined\n",
    "    # nan removal algorithms.\n",
    "    # This could be avoided using other mechanisms, but its implementation would take\n",
    "    # longer, so we exclude it from this exercise\n",
    "    Xnn = getD2Ext(X,y)\n",
    "    if minDistanceDifferentClass > 0:\n",
    "        # We add a last coordinate so that examples from different classes will very faraway\n",
    "        Xnn = np.concatenate((Xnn, (minDistanceDifferentClass/2)*y), axis=1)\n",
    "    for j in range (X.shape[1]):\n",
    "        # We get the matrix removing the target column\n",
    "        auxXnn = Xnn[:,[x for x in range(Xnn.shape[1]) if x != j]]\n",
    "        Tree = spatial.cKDTree(auxXnn, leafsize=100)\n",
    "        for i in range(X.shape[0]):\n",
    "            if np.isnan(D3[i,j]):\n",
    "                # Has a NAN value, we have to find the nearest\n",
    "                vnn=auxXnn[i]\n",
    "                # We have to add one to K, because the nearest neighbour is always the actual point\n",
    "                # and it is always nan, so it won't affect the result\n",
    "                nearest = Tree.query(vnn, k=(K+1))\n",
    "                meanNearest = np.nanmean(D3[nearest[1], j])\n",
    "                if np.isnan(meanNearest):\n",
    "                    # If all nearest neighbours are NaN, we can use the average calculated with\n",
    "                    # the other algorithms\n",
    "                    D3[i,j]=Xnn[i,j]\n",
    "                else:\n",
    "                    D3[i,j]=meanNearest\n",
    "    return D3\n",
    "\n",
    "# 2 - 4\n",
    "\n",
    "D1=getD1(X,y)\n",
    "D2=getD2(X,y)\n",
    "D2Ext=getD2Ext(X,y, strategy=\"median\")\n",
    "D3=getD3(X,y)\n",
    "\n",
    "\n",
    "meanD1 = np.mean(D1, axis=0)\n",
    "meanD2 = np.mean(D2, axis=0)\n",
    "meanD2Ext = np.mean(D2Ext, axis=0)\n",
    "meanD3 = np.mean(D3, axis=0)\n",
    "\n",
    "print 'For D1, the mean we get is:', meanD1\n",
    "print 'For D2, the mean we get is:', meanD2\n",
    "print 'For D2 using median, the mean we get is:', meanD2Ext\n",
    "print 'For D3 (Nearest), the mean we get is:', meanD3      \n"
   ]
  },
  {
   "cell_type": "markdown",
   "metadata": {},
   "source": [
    "### C. A simple classifier\n",
    "\n",
    "Our first classifier is a thresholded regressor. Use and/or modify any of the methods you implemented for regression and apply it to find a linear classifier."
   ]
  },
  {
   "cell_type": "markdown",
   "metadata": {},
   "source": [
    "<div class = \"alert alert-success\" style = \"border-radius:10px\">**QUESTION BLOCK 3:**\n",
    "<ol>\n",
    "<li>In this model you have to learn the threshold value. Explain how you can accommodate this parameter.</li>\n",
    "<li>Report the normal vector of the separating hyperplane for each data set D1, D2, D3.</li>\n",
    "<li>Compute the error rates achieved on the training data. Are there significant differences? Report the method used and their parameters.</li>\n",
    "</ol>\n",
    "<div>"
   ]
  },
  {
   "cell_type": "code",
   "execution_count": 95,
   "metadata": {
    "collapsed": false
   },
   "outputs": [
    {
     "name": "stdout",
     "output_type": "stream",
     "text": [
      "For D1:\n",
      "The normal vector is:  [[  4.54830899e-02]\n",
      " [  1.28752133e-02]\n",
      " [ -2.76153057e-03]\n",
      " [  3.09178172e-04]\n",
      " [ -1.75410884e-04]\n",
      " [  2.73791130e-02]\n",
      " [  2.50953772e-01]\n",
      " [  4.98452234e-03]]\n",
      "Accuracy: 0.778645833333 (Error Rate: 22.1354166667 %)\n",
      "Precission (PPV):  0.73786407767\n",
      "Recall (TPR):  0.567164179104\n",
      "NPV:  0.79359430605\n",
      "TNR:  0.892\n",
      "\n",
      "\n",
      "For D2:\n",
      "The normal vector is:  [[ 0.0556913 ]\n",
      " [ 0.00988663]\n",
      " [-0.00151083]\n",
      " [ 0.01041739]\n",
      " [ 0.00186537]\n",
      " [ 0.0160551 ]\n",
      " [ 0.22947897]\n",
      " [ 0.00183327]]\n",
      "Accuracy: 0.798177083333 (Error Rate: 20.1822916667 %)\n",
      "Precission (PPV):  0.755656108597\n",
      "Recall (TPR):  0.623134328358\n",
      "NPV:  0.815356489945\n",
      "TNR:  0.892\n",
      "\n",
      "\n",
      "For D3:\n",
      "The normal vector is:  [[ 0.05251374]\n",
      " [ 0.01151445]\n",
      " [-0.00310255]\n",
      " [ 0.00428877]\n",
      " [ 0.00061375]\n",
      " [ 0.02273705]\n",
      " [ 0.23253102]\n",
      " [ 0.0029058 ]]\n",
      "Accuracy: 0.772135416667 (Error Rate: 22.7864583333 %)\n",
      "Precission (PPV):  0.718309859155\n",
      "Recall (TPR):  0.570895522388\n",
      "NPV:  0.792792792793\n",
      "TNR:  0.88\n",
      "\n",
      "\n"
     ]
    }
   ],
   "source": [
    "# This classifier consists in a function that maps each point to a certain value and a threshold\n",
    "# value. All points above that threshold are considered as elements of one class and the ones\n",
    "# bellow are considered as elements of the other.\n",
    "# This is:\n",
    "# For each point X, if sum(wi*xi) [i=1 to d] > threshold, X is of class 1. Otherwise X is of class -1.\n",
    "\n",
    "# In order to apply a regressor to this equation, if consider that all examples of class 1 have\n",
    "# a value of SCALE and the ones of class -1 -SCALE, we can clearly find the two components:\n",
    "# The weights of a linear regessor are: W=wn, ...,w1,w0\n",
    "# And as we said, the regressor has the form h(x) =  sign( sum(wi*xi) [i=0 to d] - threshold )\n",
    "# If we use the regressor weights in the previous function: h(x) = sign(W·X - (treshold+w0))\n",
    "# As such, we see that if we change the regressor's w0 to w0'=(w0+threshold), by changing w0'\n",
    "# we can change the threshold of the regressor.\n",
    "\n",
    "# This is the analytic regression solver copied from the first practice\n",
    "# We try to minimize the error of the regression as if the expected output was a continous function\n",
    "# For this reason, in this case the MSE error will always be greater than 0\n",
    "def analyticSolve(x, y, threshold=0, scale=1):\n",
    "    y = np.dot(scale,y)\n",
    "    w = np.zeros((x.shape[1]+1,1))\n",
    "    xWave = np.concatenate((x, np.ones((x.shape[0],1))), axis=1)\n",
    "    w = np.linalg.inv(xWave.T.dot(xWave)).dot(xWave.T).dot(y)\n",
    "    if threshold != 0:\n",
    "        w[w.shape[1]-1,0] = w[w.shape[1]-1,0]+threshold\n",
    "    return w\n",
    "\n",
    "def computeErrors(x, y, w):\n",
    "    TP=0\n",
    "    FP=0\n",
    "    TN=0\n",
    "    FN=0\n",
    "    xWave = np.concatenate((x, np.ones((x.shape[0],1))), axis=1)\n",
    "    for i in range(x.shape[0]):\n",
    "        calculated = np.dot(np.matrix(xWave[i]), w)\n",
    "        if calculated > 0:\n",
    "            if y[i] == 1:\n",
    "                TP=TP+1\n",
    "            else:\n",
    "                FP=FP+1\n",
    "        else:\n",
    "            if y[i] == 1:\n",
    "                FN=FN+1\n",
    "            else:\n",
    "                TN=TN+1\n",
    "    return [[TP, FN], [FP,TN]]\n",
    "\n",
    "def printResults(w, pt, showWeights=False, showNormal=False):\n",
    "    if showWeights:\n",
    "        # This defines the plane (wn*xn + ... + w1*x1 + w0 = 0)\n",
    "        print \"The obtained weights are:\",w\n",
    "    if showNormal:\n",
    "        # The last coordinate of the weights (w0), is defined from one of the points in the plane\n",
    "        # (w0 = -(wn*xn0 + ... + w1*x10)) where xn0,...,x10 is a point\n",
    "        # The rest of the coordinates (wn,...,w1) defines the normal vector\n",
    "        print \"The normal vector is: \", w[0:w.shape[0]-1] \n",
    "    \n",
    "    accuracy=(pt[0][0]+pt[1][1])/float(pt[0][0]+pt[0][1]+pt[1][0]+pt[1][1])\n",
    "    precission=0\n",
    "    recall=0\n",
    "    npv=0\n",
    "    tnr=0\n",
    "    if pt[0][0]+pt[1][0] > 0:\n",
    "        precission = pt[0][0]/float(pt[0][0]+pt[1][0])\n",
    "        recall =pt[0][0]/float(pt[0][0]+pt[0][1])\n",
    "    if pt[1][1]+pt[0][1] > 0:\n",
    "        npv=pt[1][1]/float(pt[1][1]+pt[0][1])\n",
    "    if pt[1][1]+pt[1][0] > 0:\n",
    "        tnr=pt[1][1]/float(pt[1][1]+pt[1][0])\n",
    "    print \"Accuracy:\", accuracy, \"(Error Rate:\",(1-accuracy)*100,\"%)\"\n",
    "    print \"Precission (PPV): \", precission;\n",
    "    print \"Recall (TPR): \", recall;\n",
    "    print \"NPV: \", npv\n",
    "    print \"TNR: \", tnr\n",
    "\n",
    "\n",
    "xWave = np.concatenate((D1, np.ones((D1.shape[0],1))), axis=1)\n",
    "w = analyticSolve(D1, y)\n",
    "table = computeErrors(D1,y,w)\n",
    "print \"For D1:\"\n",
    "printResults(w,table,showNormal=True);\n",
    "print \"\\n\"\n",
    "\n",
    "w = analyticSolve(D2, y)\n",
    "table = computeErrors(D2,y,w)\n",
    "print \"For D2:\"\n",
    "printResults(w,table, showNormal=True);\n",
    "print \"\\n\"\n",
    "\n",
    "w = analyticSolve(D3, y)\n",
    "table = computeErrors(D3,y,w)\n",
    "print \"For D3:\"\n",
    "printResults(w,table,showNormal=True);\n",
    "print \"\\n\""
   ]
  },
  {
   "cell_type": "markdown",
   "metadata": {},
   "source": [
    "Training error is a poor estimation of the generalization error. Let us test what happens in a test set created by holding-out a certain percentage of the original dataset."
   ]
  },
  {
   "cell_type": "markdown",
   "metadata": {},
   "source": [
    "<div class = \"alert alert-success\" style = \"border-radius:10px\">**QUESTION BLOCK 4:**\n",
    "\n",
    "Repeat the learning process in block 3 using just D2 but holding-out the last fifth of the data set for testing purposes, i.e. use the first 4/5-th for training and the last 1/5-th for testing. Follow exactly the following steps in your process:\n",
    "<ol>\n",
    "<li> Clear your workspace: `%reset -f` at the begining of the cell. </li>\n",
    "<li> Preprocess the data replacing the NaN using the method for creating D2.</li>\n",
    "<li> Split your data in two sets: the first 4/5-th is to be used for training and\n",
    "the last 1/5-th will be used for testing purposes. Use a random seed value equal to 42.</li>\n",
    "<li> Train your model on the training set.</li>\n",
    "<li> Answer the following questions: Which is the error rate on your training\n",
    "data? Which is the error rate on your test data? Are they similar? Did you expect that behavior? Why?</li>\n",
    "</ol>\n",
    "</div>"
   ]
  },
  {
   "cell_type": "code",
   "execution_count": 96,
   "metadata": {
    "collapsed": false
   },
   "outputs": [
    {
     "name": "stdout",
     "output_type": "stream",
     "text": [
      "Training:\n",
      "[[131, 79], [40, 364]]\n",
      "Accuracy: 0.806188925081 (Error Rate: 19.3811074919 %)\n",
      "Precission (PPV):  0.766081871345\n",
      "Recall (TPR):  0.62380952381\n",
      "NPV:  0.821670428894\n",
      "TNR:  0.90099009901\n",
      "-------------------------------\n",
      "Test:\n",
      "[[32, 26], [10, 86]]\n",
      "Accuracy: 0.766233766234 (Error Rate: 23.3766233766 %)\n",
      "Precission (PPV):  0.761904761905\n",
      "Recall (TPR):  0.551724137931\n",
      "NPV:  0.767857142857\n",
      "TNR:  0.895833333333\n"
     ]
    }
   ],
   "source": [
    "# 4 - 1\n",
    "# %reset -f\n",
    "\n",
    "# 4 - 2\n",
    "D2=getD2(X,y)\n",
    "D2y=np.array(y)\n",
    "\n",
    "# 4 - 3\n",
    "# Set the seed\n",
    "np.random.seed(42)\n",
    "# Shuffle the dataset\n",
    "indices = np.random.permutation(D2.shape[0])\n",
    "# Create the corpuses\n",
    "numTrainingExamples = int(0.8*D2.shape[0])\n",
    "TrD2x, TeD2x = D2[indices[:numTrainingExamples]], D2[indices[numTrainingExamples:]]\n",
    "TrD2y, TeD2y = D2y[indices[:numTrainingExamples]], D2y[indices[numTrainingExamples:]]\n",
    "\n",
    "# 4 - 4\n",
    "w = analyticSolve(TrD2x, TrD2y)\n",
    "\n",
    "# 4 - 5\n",
    "print \"Training:\"\n",
    "tableTraining = computeErrors(TrD2x,TrD2y,w)\n",
    "print tableTraining\n",
    "printResults(w,tableTraining);\n",
    "print \"-------------------------------\"\n",
    "print \"Test:\"\n",
    "tableTraining = computeErrors(TeD2x,TeD2y,w)\n",
    "print tableTraining\n",
    "printResults(w,tableTraining);\n",
    "\n",
    "# As we can see, there is a difference in the accuracy value obtained in the\n",
    "# training set and in the test set. This is to be expected as the classifier is optimized for the\n",
    "# examples in the training set, and hence the accuracy is better when checking that set.\n"
   ]
  },
  {
   "cell_type": "markdown",
   "metadata": {},
   "source": [
    "<div class = \"alert alert-success\" style = \"border-radius:10px\"> **QUESTION BLOCK 5:**\n",
    "Repeat the process in block 4 changing the order of some of the steps. Follow exactly the following steps in your process:\n",
    "<ol>\n",
    "<li> Clear your workspace with `%reset -f`.</li>\n",
    "<li> Split your data in two sets: the first 4/5-th is to be used for training and the last 1/5-th will be used for testing purposes. Use random state or random seed value of 42. </li>\n",
    "<li> Preprocess the data replacing the NaN using the method for creating D2. But this time use only the data corresponding to the training set. </li>\n",
    "<li> Train your model on the training set.</li>\n",
    "<li> Replace the NaN values using the means computed on the training data. </li>\n",
    "<li> Answer the following questions: Which is the error rate on your training data? Which is the error rate on your test data? Are they similar? Did you expect that behavior? Why? </li>\n",
    "<li> Compare these results with the ones in block 4. Do we achieve better or worse results? Why?</li>\n",
    "<div>"
   ]
  },
  {
   "cell_type": "code",
   "execution_count": 97,
   "metadata": {
    "collapsed": false
   },
   "outputs": [
    {
     "name": "stdout",
     "output_type": "stream",
     "text": [
      "Training:\n",
      "Accuracy: 0.804560260586 (Error Rate: 19.5439739414 %)\n",
      "Precission (PPV):  0.761627906977\n",
      "Recall (TPR):  0.62380952381\n",
      "NPV:  0.821266968326\n",
      "TNR:  0.898514851485\n",
      "-------------------------------\n",
      "Test:\n",
      "Accuracy: 0.746753246753 (Error Rate: 25.3246753247 %)\n",
      "Precission (PPV):  0.74358974359\n",
      "Recall (TPR):  0.5\n",
      "NPV:  0.747826086957\n",
      "TNR:  0.895833333333\n"
     ]
    }
   ],
   "source": [
    "# I am defining this exercise as a block in order to be able to use it in the last exercise\n",
    "def block5(X,y, trainingRatio=0.8):\n",
    "    # 5 - 1\n",
    "    # %reset -f\n",
    "\n",
    "    # 5 - 2\n",
    "    # Set the seed\n",
    "    np.random.seed(42)\n",
    "    # Shuffle the dataset\n",
    "    indices = np.random.permutation(X.shape[0])\n",
    "    # Create the corpuses\n",
    "    numTrainingExamples = int(trainingRatio*X.shape[0])\n",
    "    Trx, Tex = X[indices[:numTrainingExamples]], X[indices[numTrainingExamples:]]\n",
    "    Try, Tey = y[indices[:numTrainingExamples]], y[indices[numTrainingExamples:]]\n",
    "\n",
    "    # 5 - 3\n",
    "    TrD2x=getD2(Trx,Try)\n",
    "\n",
    "    # 5 - 4\n",
    "    w = analyticSolve(TrD2x, Try)\n",
    "\n",
    "    # 5 - 5\n",
    "    TrMean = np.nanmean(Trx, axis=0)\n",
    "    TeD1x = getD1(Tex,Tey,TrMean)\n",
    "    \n",
    "    return [w, TrD2x, Try, TeD1x, Tey]\n",
    "\n",
    "w, TrD2x, Try, TeD1x, Tey = block5(X,y);\n",
    "\n",
    "# 5 - 6\n",
    "print \"Training:\"\n",
    "TrTable = computeErrors(TrD2x,Try,w)\n",
    "printResults(w,TrTable);\n",
    "print \"-------------------------------\"\n",
    "print \"Test:\"\n",
    "TeTable = computeErrors(TeD1x,Tey,w)\n",
    "printResults(w,TeTable);\n",
    "\n",
    "# Just like in the previous exercise, there is a considerable difference between the two corpuses.\n",
    "# In this case it is even greater. This is because he mechanism to remove NaNs in the previous exercise \n",
    "# was done taking into consideration the values and points of the test set. This is certainly odd, because\n",
    "# in a real case scenario we cannot replace NaN values depending on the value that we want to infer (D2 uses the class).\n",
    "# For this reason, in the previous exercise the training set and test set were more similar and more correlated than\n",
    "# in this second exercise.\n"
   ]
  },
  {
   "cell_type": "markdown",
   "metadata": {},
   "source": [
    "<div class = \"alert alert-success\" style = \"border-radius:10px\"> **QUESTION BLOCK 6:**\n",
    "<ol>\n",
    "<li> Repeat the process in block 5 changing the percentage of the data for training and testing. Plot a graph with the training and test error rates for each splitting percentage point. Comment the results.</li>\n",
    "<li> Add to the plot the upper bound on the generalization error using the equation of the slides for VC dimension equal to $d + 1$. Discuss the result.</li>\n",
    "<li> How many samples does the bound predict in order to have 1% error deviation with a confidence of 95%? And with confidence 50%? What about 5% and 10% error deviation with 95% confidence? Comment the behavior according to your observations.</li>\n",
    "</ol>\n",
    "<div>"
   ]
  },
  {
   "cell_type": "code",
   "execution_count": 98,
   "metadata": {
    "collapsed": false
   },
   "outputs": [
    {
     "data": {
      "text/plain": [
       "<matplotlib.legend.Legend at 0xa34acf8>"
      ]
     },
     "execution_count": 98,
     "metadata": {},
     "output_type": "execute_result"
    },
    {
     "data": {
      "image/png": "[encoded data removed]",
      "text/plain": [
       "<matplotlib.figure.Figure at 0x9bb4400>"
      ]
     },
     "metadata": {},
     "output_type": "display_data"
    }
   ],
   "source": [
    "TrErrors=[]\n",
    "TeErrors=[]\n",
    "TrPcts=[]\n",
    "for i in range(2,100,2):\n",
    "    w, TrD2x, Try, TeD1x, Tey = block5(X,y,i/float(100))\n",
    "    tableTraining = computeErrors(TrD2x,Try,w)\n",
    "    \n",
    "    # Calculate error in training\n",
    "    TrTable = computeErrors(TrD2x,Try,w)\n",
    "    TrError=(TrTable[0][1]+TrTable[1][0])/float(TrTable[0][0]+TrTable[0][1]+TrTable[1][0]+TrTable[1][1])\n",
    "    \n",
    "    # Calculate error in Test\n",
    "    TeTable = computeErrors(TeD1x,Tey,w)\n",
    "    TeError=(TeTable[0][1]+TeTable[1][0])/float(TeTable[0][0]+TeTable[0][1]+TeTable[1][0]+TeTable[1][1])\n",
    "    \n",
    "    # Add to plots\n",
    "    TrErrors.append(TrError)\n",
    "    TeErrors.append(TeError)\n",
    "    TrPcts.append(i)\n",
    "\n",
    "    \n",
    "import matplotlib.pyplot as plt\n",
    "\n",
    "%matplotlib inline\n",
    "\n",
    "plt.ylabel('Error Rate')\n",
    "plt.xlabel('% of Training')\n",
    "plt.hold('on')\n",
    "plt.plot( TrPcts, TrErrors, label=\"Training\")\n",
    "plt.plot(TrPcts, TeErrors,  label=\"Test\")\n",
    "plt.legend(bbox_to_anchor=(1.05, 1), loc=2, borderaxespad=0., title='Corpus')"
   ]
  },
  {
   "cell_type": "code",
   "execution_count": null,
   "metadata": {
    "collapsed": true
   },
   "outputs": [],
   "source": [
    "# I DON'T KNOW HOW TO APPLY THE FORMULA"
   ]
  }
 ],
 "metadata": {
  "anaconda-cloud": {},
  "kernelspec": {
   "display_name": "Python [Root]",
   "language": "python",
   "name": "Python [Root]"
  },
  "language_info": {
   "codemirror_mode": {
    "name": "ipython",
    "version": 2
   },
   "file_extension": ".py",
   "mimetype": "text/x-python",
   "name": "python",
   "nbconvert_exporter": "python",
   "pygments_lexer": "ipython2",
   "version": "2.7.12"
  }
 },
 "nbformat": 4,
 "nbformat_minor": 0
}
